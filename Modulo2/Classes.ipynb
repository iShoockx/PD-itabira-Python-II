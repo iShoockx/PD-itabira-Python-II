{
  "nbformat": 4,
  "nbformat_minor": 0,
  "metadata": {
    "colab": {
      "provenance": []
    },
    "kernelspec": {
      "name": "python3",
      "display_name": "Python 3"
    },
    "language_info": {
      "name": "python"
    }
  },
  "cells": [
    {
      "cell_type": "markdown",
      "source": [
        "> Projeto Desenvolve <br>\n",
        "Programação Intermediária com Python <br>\n",
        "Profa. Camila Laranjeira (mila@projetodesenvolve.com.br) <br>"
      ],
      "metadata": {
        "id": "VDCuryQSFHOH"
      }
    },
    {
      "cell_type": "markdown",
      "source": [
        "# Classes e atributos\n",
        "\n",
        "O Python possui a instrução composta ```class``` com a seguinte estrutura:\n"
      ],
      "metadata": {
        "id": "flFBSDYzXcL3"
      }
    },
    {
      "cell_type": "markdown",
      "source": [
        "```python\n",
        "class NomeDaClasse:\n",
        "    \n",
        "    ## CONSTRUTOR\n",
        "    ## método especial __init__()\n",
        "    ## chamado ao instanciar um objeto\n",
        "    def __init__(self,):\n",
        "        ## defina e inicialize os atributos de instância\n",
        "        self.var = 0\n",
        "\n",
        "    ## métodos customizados\n",
        "    def metodo(self,):\n",
        "        pass\n",
        "```\n",
        "\n",
        "O primeiro argumento da maioria dos métodos é `self`. Ele contém **uma referência ao objeto atual** para que você possa usá-lo dentro da classe. No exemplo acima, cada nova instância de `NomeDaClasse` terá um atributo `var`. Para acessá-lo dentro da classe precisamos dessa referência `self`, como acontece no construtor para incializar este atributo:\n",
        "```python\n",
        "self.var = 0\n",
        "```"
      ],
      "metadata": {
        "id": "_MdAH84AM6lw"
      }
    },
    {
      "cell_type": "code",
      "source": [
        "class Cachorro:\n",
        "    ### Atributos/Dados ###\n",
        "    MAX_BRINQUEDOS = 10 # atributo de classe\n",
        "\n",
        "    def __init__(self, nome=\"\", idade=0, brinquedos=[]):\n",
        "      # atributos de instância\n",
        "      self.nome = nome\n",
        "      self.idade = idade\n",
        "      self.brinquedos = brinquedos\n",
        "    ########################\n",
        "\n",
        "    ### Métodos/Operações ###\n",
        "    def isIdoso(self): return self.idade > 7\n",
        "\n",
        "    def addBrinquedo(self, brinquedo):\n",
        "      if len(self.brinquedos) > self.MAX_BRINQUEDOS:\n",
        "        raise(\"Erro! Já tem brinquedos demais\")\n",
        "      else:\n",
        "        self.brinquedos.append(brinquedo)\n",
        "    ##########################"
      ],
      "metadata": {
        "id": "4saB8ALwLFid"
      },
      "execution_count": null,
      "outputs": []
    },
    {
      "cell_type": "markdown",
      "source": [
        "Na classe acima definimos dois tipos de atriburos:\n",
        "* **Atributos de instância**: Precedido pela palavra reservada `self` e definido dentro do método especial `__init__()`. Cada novo objeto manipula sua própria instância desses atributos.\n",
        "* **Atributos de classe**: Definido na raiz da classe e manipulado por ela. Todos os objetos recebem a mesma instância (com mesma identidade e valor).\n",
        "\n",
        "Comentamos que a definição da classe é apenas um molde que define como serão os objetos criados a partir dela. No entanto, atributos de classe passam a existir no momento da sua definição, e são acessíveis diretamente pela classe."
      ],
      "metadata": {
        "id": "lZ1rHbBGChUl"
      }
    },
    {
      "cell_type": "code",
      "source": [
        "print(Cachorro.MAX_BRINQUEDOS)\n",
        "\n",
        "import pprint\n",
        "pprint.pprint(Cachorro.__dict__) # Namespace da classe"
      ],
      "metadata": {
        "colab": {
          "base_uri": "https://localhost:8080/"
        },
        "id": "MiWa58gXCcqr",
        "outputId": "9b78aa26-8ecd-4df8-9483-e75769128132"
      },
      "execution_count": null,
      "outputs": [
        {
          "output_type": "stream",
          "name": "stdout",
          "text": [
            "10\n",
            "mappingproxy({'MAX_BRINQUEDOS': 10,\n",
            "              '__dict__': <attribute '__dict__' of 'Cachorro' objects>,\n",
            "              '__doc__': None,\n",
            "              '__init__': <function Cachorro.__init__ at 0x7fb4f6ede5f0>,\n",
            "              '__module__': '__main__',\n",
            "              '__weakref__': <attribute '__weakref__' of 'Cachorro' objects>,\n",
            "              'addBrinquedo': <function Cachorro.addBrinquedo at 0x7fb4f6ede710>,\n",
            "              'isIdoso': <function Cachorro.isIdoso at 0x7fb4f6ede680>})\n"
          ]
        }
      ]
    },
    {
      "cell_type": "markdown",
      "source": [
        "Objetos concretos devem ser **instanciados** (criação de instância) invocando o nome da classe como uma função. Cada nova instância será um objeto único com identidade, tipo e valor.\n"
      ],
      "metadata": {
        "id": "8U7pkj0ALP6n"
      }
    },
    {
      "cell_type": "code",
      "source": [
        "turing = Cachorro()\n",
        "yoshi = Cachorro()\n",
        "\n",
        "print('### Turing ###')\n",
        "print('id:\\t',    id(turing))\n",
        "print('type:\\t',  type(turing))\n",
        "print('valor?\\t', turing)\n",
        "print('valor (Namespace):\\t', turing.__dict__, '\\n')\n",
        "\n",
        "print('### Yoshi ###')\n",
        "print('id:\\t',    id(yoshi))\n",
        "print('type:\\t',  type(yoshi))\n",
        "print('valor?\\t', yoshi)\n",
        "print('valor (Namespace):\\t', yoshi.__dict__)"
      ],
      "metadata": {
        "colab": {
          "base_uri": "https://localhost:8080/"
        },
        "id": "DPwIZ34uLPTc",
        "outputId": "cdff3033-b5e7-46cf-fd18-7522e22eea07"
      },
      "execution_count": null,
      "outputs": [
        {
          "output_type": "stream",
          "name": "stdout",
          "text": [
            "### Turing ###\n",
            "id:\t 134484958592880\n",
            "type:\t <class '__main__.Cachorro'>\n",
            "valor?\t <__main__.Cachorro object at 0x7a50382f3f70>\n",
            "valor (Namespace):\t {'nome': '', 'idade': 0, 'brinquedos': []} \n",
            "\n",
            "### Yoshi ###\n",
            "id:\t 134484958588080\n",
            "type:\t <class '__main__.Cachorro'>\n",
            "valor?\t <__main__.Cachorro object at 0x7a50382f2cb0>\n",
            "valor (Namespace):\t {'nome': '', 'idade': 0, 'brinquedos': []}\n"
          ]
        }
      ]
    },
    {
      "cell_type": "markdown",
      "source": [
        "Membros de um objeto são acessíveis através da **notação de ponto**,\n",
        "* `objeto.membro` para atributos.\n",
        "* `objeto.membro()` no caso de métodos, com a eventual adição de parâmetros caso haja algum."
      ],
      "metadata": {
        "id": "MRH0H_y3ELoJ"
      }
    },
    {
      "cell_type": "code",
      "source": [
        "## preenchendo atributos ##\n",
        "turing.nome = \"Turing\"\n",
        "turing.idade = 7\n",
        "turing.brinquedos = ['ossinho', 'galinha']\n",
        "\n",
        "## invocando métodos ##\n",
        "print('isIdoso():', turing.isIdoso())\n",
        "turing.addBrinquedo('macaquinho')\n",
        "print('Brinquedos:', ','.join(turing.brinquedos))"
      ],
      "metadata": {
        "colab": {
          "base_uri": "https://localhost:8080/"
        },
        "id": "1nJ0TuAJr889",
        "outputId": "ca518fac-c927-44d1-fb70-3561d7be5dec"
      },
      "execution_count": null,
      "outputs": [
        {
          "output_type": "stream",
          "name": "stdout",
          "text": [
            "isIdoso(): False\n",
            "Brinquedos: ossinho,galinha,macaquinho\n"
          ]
        }
      ]
    },
    {
      "cell_type": "code",
      "source": [
        "## Atributos de instância\n",
        "## acessíveis somente por objetos concretos\n",
        "print(turing.idade)\n",
        "# print(Cachorro.idade) # vai lançar erro\n",
        "\n",
        "## Aproveitamento de memória\n",
        "yoshi.idade = 7\n",
        "print(turing.idade, id(turing.idade))\n",
        "print(yoshi.idade,  id(yoshi.idade))"
      ],
      "metadata": {
        "colab": {
          "base_uri": "https://localhost:8080/"
        },
        "id": "z-cDREjvCINW",
        "outputId": "c946183b-9b6e-45ed-e8bd-2c6a7e30e593"
      },
      "execution_count": null,
      "outputs": [
        {
          "output_type": "stream",
          "name": "stdout",
          "text": [
            "7\n",
            "7 140416331645360\n",
            "7 140416331645360\n"
          ]
        }
      ]
    },
    {
      "cell_type": "markdown",
      "source": [
        "**Atributos de classe** são acessíveis pelo nome da classe ou por objetos do seu tipo. Modificações nesse tipo de atributo tem um efeito muito particular:\n",
        "* se feito por uma instância, modifica apenas o valor na instância\n",
        "* se feito pela classe, modifica para todas as instâncias **exceto** aquelas que explicitamente sobrescreveram aquele atributo."
      ],
      "metadata": {
        "id": "FjJSEzppuUPG"
      }
    },
    {
      "cell_type": "code",
      "source": [
        "# Acessando atributos de classe\n",
        "print(Cachorro.MAX_BRINQUEDOS, turing.MAX_BRINQUEDOS, yoshi.MAX_BRINQUEDOS)\n",
        "\n",
        "# Modificações em atributos de classe\n",
        "Cachorro.MAX_BRINQUEDOS = 11\n",
        "print('Cachorro.MAX_BRINQUEDOS = 11\\t|', Cachorro.MAX_BRINQUEDOS,\n",
        "      turing.MAX_BRINQUEDOS, yoshi.MAX_BRINQUEDOS)\n",
        "\n",
        "yoshi.MAX_BRINQUEDOS = 5\n",
        "print('yoshi.MAX_BRINQUEDOS = 5\\t|', Cachorro.MAX_BRINQUEDOS,\n",
        "      turing.MAX_BRINQUEDOS, yoshi.MAX_BRINQUEDOS)\n",
        "\n",
        "Cachorro.MAX_BRINQUEDOS = 12\n",
        "print('Cachorro.MAX_BRINQUEDOS = 12\\t|', Cachorro.MAX_BRINQUEDOS,\n",
        "      turing.MAX_BRINQUEDOS, yoshi.MAX_BRINQUEDOS)"
      ],
      "metadata": {
        "colab": {
          "base_uri": "https://localhost:8080/"
        },
        "id": "LbTPx4nD_bDT",
        "outputId": "333d7eef-920e-4031-e0df-b06353793678"
      },
      "execution_count": null,
      "outputs": [
        {
          "output_type": "stream",
          "name": "stdout",
          "text": [
            "10 12 5\n",
            "Cachorro.MAX_BRINQUEDOS = 11\t| 11 12 5\n",
            "yoshi.MAX_BRINQUEDOS = 5\t| 11 12 5\n",
            "Cachorro.MAX_BRINQUEDOS = 12\t| 12 12 5\n"
          ]
        }
      ]
    },
    {
      "cell_type": "markdown",
      "source": [
        "# Métodos\n",
        "\n",
        "Antes de listar os tipos de métodos, precisamos abrir um parênteses para o conceito de ✨ **decorador** ✨.\n",
        "\n",
        "####################################################### <br>\n",
        "Tutorial do Real Python: https://realpython.com/primer-on-python-decorators/ <br>\n",
        "Tutorial do Geeks4Geeks: https://www.geeksforgeeks.org/decorators-in-python/\n",
        "####################################################### <br>\n",
        "\n",
        "Decoradores permitem modificar o comportamento de funções sem alterar o código da função. Basta adicionar o componente `@nome_do_decorador` na linha acima da definição da função que se deseja suplementar.\n",
        "\n",
        "Talvez a definição seja confusa, mas na prática para criar um decorador basta definir algo chamável (função, método ou classe) que aceita um objeto tipo função e retorna outro objeto tipo função que altera o comportamento da função recebida. Um exemplo de estrutura:\n",
        "\n",
        "```python\n",
        "def nome_do_decorador(funcao_a_ser_modificada):\n",
        "    def modificador_de_funcao():\n",
        "        print('Faça algo antes da função')\n",
        "        funcao_a_ser_modificada() #chame a função com as modificações desejadas\n",
        "        print('Faça algo depois da função')\n",
        "    return modificador_de_funcao\n",
        "\n",
        "@nome_do_decorador\n",
        "def funcao_a_ser_modificada():\n",
        "  print('Faça algo na função')\n",
        "```\n",
        "\n",
        "Vamos ver um exemplo prático de decorador customizado:\n",
        "\n",
        "\n"
      ],
      "metadata": {
        "id": "ra-iTiQMQLku"
      }
    },
    {
      "cell_type": "code",
      "source": [
        "import time\n",
        "\n",
        "## Definindo decorator (função que retorna função)\n",
        "def timed_function(func):\n",
        "  def timer():\n",
        "    print('Iniciando o timer')\n",
        "    start = time.time()\n",
        "    func()\n",
        "    end = time.time()\n",
        "    print('Tempo de execução:', end-start)\n",
        "  return timer\n",
        "\n",
        "## Definindo função com o decorator customizado\n",
        "@timed_function\n",
        "def funcao_lenta():\n",
        "  time.sleep(5)\n",
        "  print('Fim!')\n",
        "\n",
        "# Chamando função decorada\n",
        "funcao_lenta() # equivale a timed_function(funcao_lenta())"
      ],
      "metadata": {
        "colab": {
          "base_uri": "https://localhost:8080/"
        },
        "id": "MYANDpXtnegx",
        "outputId": "767ec7be-0d33-4e63-eebf-eb5b96286a00"
      },
      "execution_count": null,
      "outputs": [
        {
          "output_type": "stream",
          "name": "stdout",
          "text": [
            "Iniciando o timer\n",
            "Fim!\n",
            "Tempo de execução: 5.005294561386108\n"
          ]
        }
      ]
    },
    {
      "cell_type": "markdown",
      "source": [
        "Vamos ver inúmeras decoradores ao longo desse curso, começando pelos decoradores que modificam métodos de classe. Agora sim, vamos aos tipos de métodos que podemos encontrar em classes Python.\n",
        "\n",
        "Na prática, todos os métodos são métodos da classe (percentencem ao namespace da classe), porém existem convenções de parâmetros que são automaticamente passados para o método dependendo do seu tipo. Os tipos são:\n",
        "\n",
        "* **Método de instância**: Método mais comum. Recebe automaticamente como primeiro parâmetro o `self`, uma referência à instância que chamou o método. Através do parâmetro `self` podemos acessar outros métodos e atributos da instância.\n",
        "    * Só pode ser chamado por objetos concretos e recebe em `self`uma referência ao objeto\n",
        "    * ```python\n",
        "    def method(self, ...): pass\n",
        "    ```\n",
        "* **Método de classe** `@classmethod`: Necessita do decorador. Recebe automaticamente como primeiro parâmetro o `cls`, uma referência à classe presente (e não à instância). Através do parâmetro `cls` podemos acessar outros métodos e atributos da classe.\n",
        "    * Pode ser chamado pela classe ou por uma de suas instâncias, mas `cls` sempre será uma referência à classe.\n",
        "    * ```python\n",
        "    @classmethod\n",
        "    def method(cls, ...): pass\n",
        "    ```\n",
        "* **Método estático**`@staticmethod`: Necessita do decorador. Não estabelece nenhum parâmetro pré-definido nem automático, ou seja, não tem acesso nem aos elementos da classe nem os da instância.\n",
        "    * Pode ser chamado pela classe ou por uma de suas instâncias, mas não recebe nenhuma referência.\n",
        "    * ```python\n",
        "    @staticmethod\n",
        "    def method(...): pass\n",
        "    ```"
      ],
      "metadata": {
        "id": "xDXJKoHtndFN"
      }
    },
    {
      "cell_type": "code",
      "source": [
        "import math\n",
        "\n",
        "class ThreeDPoint:\n",
        "    EIXOS = ('X','Y', 'Z')\n",
        "\n",
        "    def __init__(self, x, y, z):\n",
        "        self.x = x\n",
        "        self.y = y\n",
        "        self.z = z\n",
        "\n",
        "    @classmethod\n",
        "    def from_sequence(cls, seq):\n",
        "        return cls(*seq) # equivale a ThreeDPoint(seq[0], seq[1], seq[2])\n",
        "\n",
        "    @classmethod\n",
        "    def print_eixos(cls):\n",
        "        print(cls.EIXOS)\n",
        "\n",
        "    @staticmethod\n",
        "    def show_intro_message(name):\n",
        "        print(f\"Hey {name}! This is your 3D Point!\")\n",
        "\n",
        "    # metodo de instância\n",
        "    def dist2origin(self):\n",
        "      return math.sqrt(self.x**2 + self.y**2 + self.z**2)\n"
      ],
      "metadata": {
        "id": "KdebhCd8QLRk"
      },
      "execution_count": null,
      "outputs": []
    },
    {
      "cell_type": "code",
      "source": [
        "p1 = ThreeDPoint(1,2,3)\n",
        "print(f'p1.dist2origin() -> {p1.dist2origin():.2f}', '\\n')\n",
        "\n",
        "tupla = (3,4,5)\n",
        "p2 = ThreeDPoint.from_sequence(tupla)\n",
        "print('p2.__dict__ ->', p2.__dict__, '\\n')\n",
        "\n",
        "tupla = (6,7,8)\n",
        "p3 = p1.from_sequence(tupla)\n",
        "print(f'id(p1) -> {id(p1)} | id(p3) -> {id(p3)}', '\\n')\n",
        "\n",
        "ThreeDPoint.show_intro_message('ThreeDPoint')\n",
        "p3.show_intro_message('p3')"
      ],
      "metadata": {
        "colab": {
          "base_uri": "https://localhost:8080/"
        },
        "id": "rmEYb-EK0oYK",
        "outputId": "b3524c3c-9730-4ee8-ecaa-f2cd80f093c8"
      },
      "execution_count": null,
      "outputs": [
        {
          "output_type": "stream",
          "name": "stdout",
          "text": [
            "p1.dist2origin() -> 3.74 \n",
            "\n",
            "p2.__dict__ -> {'x': 3, 'y': 4, 'z': 5} \n",
            "\n",
            "id(p1) -> 134484958592832 | id(p3) -> 134484958581024 \n",
            "\n",
            "Hey ThreeDPoint! This is your 3D Point!\n",
            "Hey p3! This is your 3D Point!\n"
          ]
        }
      ]
    },
    {
      "cell_type": "markdown",
      "source": [
        "## Métodos mágicos 🔮🪄✨\n",
        "\n",
        "############################################################### <br>\n",
        "Documentação: https://docs.python.org/pt-br/3/reference/datamodel.html#special-method-names\n",
        "############################################################### <br>\n",
        "\n",
        "Sabe os métodos na forma `__metodo__()` que aparecem quando que consultamos as propriedades e métodos de um objeto com a função `dir(objeto)`? Na documentação você encontra [uma lista](https://docs.python.org/pt-br/3/reference/datamodel.html#special-method-names) de comportamentos nativos da linguagem que podemos customizar para um determinado tipo de dado. Desde operações aritméticas (soma, subtração) até instruções compostas como o `with`, podemos definir como tais operações vão atuar sobre nossos tipos de dado, nossas classes.\n",
        "\n",
        "São oficialmente chamados de [métodos especiais](https://docs.python.org/pt-br/3/reference/datamodel.html#special-method-names), mas se popularizou o termo ✨ [métodos mágicos](https://realpython.com/python-magic-methods/) ✨  (que é muito mais legal). Podem também ser chamados de **métodos dunder** (**d-under**: **d**ouble **under**score) pela forma padrão `__metodo__()` que se convencionou.\n",
        "\n",
        "> **Sobrecarga de operador**: É um tipo básico de polimorfismo (teremos uma aula sobre isso) onde o mesmo operador pode ter diferentes comportamentos dependendo do número e do tipo de argumentos envolvidos. Os métodos mágicos são a abordagem do Python para este comportamento.\n"
      ],
      "metadata": {
        "id": "9GuoFpY3v4Xy"
      }
    },
    {
      "cell_type": "code",
      "source": [
        "print(dir(turing))"
      ],
      "metadata": {
        "colab": {
          "base_uri": "https://localhost:8080/"
        },
        "id": "6qv32UkLmreU",
        "outputId": "86881cad-dc7b-42ce-ac29-2257638ad7f7"
      },
      "execution_count": null,
      "outputs": [
        {
          "output_type": "stream",
          "name": "stdout",
          "text": [
            "['MAX_BRINQUEDOS', '__class__', '__delattr__', '__dict__', '__dir__', '__doc__', '__eq__', '__format__', '__ge__', '__getattribute__', '__gt__', '__hash__', '__init__', '__init_subclass__', '__le__', '__lt__', '__module__', '__ne__', '__new__', '__reduce__', '__reduce_ex__', '__repr__', '__setattr__', '__sizeof__', '__str__', '__subclasshook__', '__weakref__', 'addBrinquedo', 'brinquedos', 'idade', 'isIdoso', 'nome']\n"
          ]
        }
      ]
    },
    {
      "cell_type": "markdown",
      "source": [
        "Agora que já sabemos criar nossas próprias classes, estamos bem familiarizados com o método `__init__()`, que define o comportamento do construtor de uma instância da nossa classe. Note que ao instanciar um objeto não chamamos explicitmente a função `__init__()`, mas **ela executa indiretamente** quando chamamos o nome da classe na forma de função."
      ],
      "metadata": {
        "id": "9niDprPvyHap"
      }
    },
    {
      "cell_type": "code",
      "source": [
        "class Exemplo():\n",
        "  def __init__(self,):\n",
        "    \"\"\"Inicialização da classe Exemplo\"\"\"\n",
        "\n",
        "    print('Iniciando minha classe!')\n",
        "\n",
        "obj = Exemplo()"
      ],
      "metadata": {
        "colab": {
          "base_uri": "https://localhost:8080/"
        },
        "id": "-XJNwNmyRbKn",
        "outputId": "da9b9f88-f06c-45d4-8d48-388cbab34824"
      },
      "execution_count": null,
      "outputs": [
        {
          "output_type": "stream",
          "name": "stdout",
          "text": [
            "Iniciando minha classe!\n"
          ]
        }
      ]
    },
    {
      "cell_type": "markdown",
      "source": [
        "Todos os métodos mágicos seguem o mesmo raciocínio. Você não verá ao longo de um código chamadas de métodos com o formato `__dunder__()`, mas saiba que uma série de operações (algumas conheceremos agora) disparam indiretamente a chamada desses métodos.\n",
        "\n",
        "### Personalização básica\n",
        "\n",
        "* `__init__(self)`: Chamado após a instância ter sido criada, mas antes de ser retornada ao chamador. Seu uso mais comum é a inicialização dos atributos da instância criada.\n",
        "* `__str__(self)` : Chamado por `str(object)` e as funções embutidas `format()` e `print()` para calcular a representação da string “informal” ou agradável para exibição de um objeto.\n",
        "* `__repr__(self)`: Chamado pela função embutida `repr()` ou pela formatação de strings com `!r` (ex.: `f'{obj!r}'`). Deve fornecer uma representação \"oficial\" ou \"técnica\" de um objeto. Se possível, deve ser uma expressão Python válida para recriar um objeto com o mesmo valor.\n",
        "    * Uma string que reproduz fielmente uma instrução do Python pode ser executada aplicando a função `eval(expressao)`\n",
        "\n",
        "\n",
        "\n",
        "Leituras recomendadas:\n",
        "* [When Should You Use `.__repr__()` vs `.__str__()` in Python?](https://realpython.com/python-repr-vs-str/)\n"
      ],
      "metadata": {
        "id": "hVSCTxp6Rm5F"
      }
    },
    {
      "cell_type": "code",
      "source": [
        "class MagicPotion:\n",
        "    def __init__(self, nome, pontos_cura):\n",
        "        self.nome = nome\n",
        "        self.pontos_cura = pontos_cura\n",
        "\n",
        "    def __str__(self,):\n",
        "        return f\"Sua poção {self.nome} tem {self.pontos_cura} pontos de cura\"\n",
        "\n",
        "    def __repr__(self):\n",
        "        class_name = type(self).__name__\n",
        "        return f\"{class_name}(nome={self.nome!r}, pontos_cura={self.pontos_cura!r})\"\n",
        "\n",
        "\n",
        "pocao = MagicPotion(\"Néctar de Cura\", 50)"
      ],
      "metadata": {
        "id": "m4O-Z1hoStro"
      },
      "execution_count": null,
      "outputs": []
    },
    {
      "cell_type": "code",
      "source": [
        "print('__str__()')\n",
        "print('print(pocao) ->', pocao)\n",
        "print(f'print formatado -> {pocao}')\n",
        "st = str(pocao)\n",
        "print('conversão de tipo str(pocao) ->', st)\n",
        "\n",
        "print('-'*40)\n",
        "\n",
        "print('__repr__()')\n",
        "print('repr(pocao)->', repr(pocao))\n",
        "print(f'formatado !r -> {pocao!r}')\n",
        "\n",
        "print('\\n--- Recriando a poção a partir de __repr__() ---')\n",
        "pocao_repetida = eval(repr(pocao))\n",
        "print(pocao_repetida.nome, pocao_repetida.pontos_cura)"
      ],
      "metadata": {
        "id": "sn6hXnTGv4De",
        "colab": {
          "base_uri": "https://localhost:8080/"
        },
        "outputId": "7a90bb8f-e1e9-4d96-8b68-8ccb28e52796"
      },
      "execution_count": null,
      "outputs": [
        {
          "output_type": "stream",
          "name": "stdout",
          "text": [
            "__str__()\n",
            "print(pocao) -> Sua poção Néctar de Cura tem 50 pontos de cura\n",
            "print formatado -> Sua poção Néctar de Cura tem 50 pontos de cura\n",
            "conversão de tipo str(pocao) -> Sua poção Néctar de Cura tem 50 pontos de cura\n",
            "----------------------------------------\n",
            "__repr__()\n",
            "repr(pocao)-> MagicPotion(nome='Néctar de Cura', pontos_cura=50)\n",
            "formatado !r -> MagicPotion(nome='Néctar de Cura', pontos_cura=50)\n",
            "\n",
            "--- Recriando a poção a partir de __repr__() ---\n",
            "Néctar de Cura 50\n"
          ]
        }
      ]
    },
    {
      "cell_type": "markdown",
      "source": [
        "### Operadores aritméticos e lógicos\n",
        "\n",
        "A tabela a seguir apresenta os métodos mágicos que podem ser implementados em uma classe customizada para implementar o comportamento de operadores aritméticos quando aplicados a instâncias da classe implementada.\n",
        "\n",
        "\n",
        "\n",
        "| Operador | Método                    | Operador | Método       |\n",
        "| :---:  | :-----------------------    | :---:  | :----------  |\n",
        "|  `+`   | `.__add__(self, other)`     |  `<`   | `.__lt__(self, other)` |\n",
        "|  `-`   | `.__sub__(self, other)`     |  `<=`  | `.__le__(self, other)` |\n",
        "|  `*`   | `.__mul__(self, other)`     |  `==`  | `.__eq__(self, other)` |\n",
        "|  `/`   | `.__truediv__(self, other)` |  `!=`  | `.__ne__(self, other)` |\n",
        "|  `//`  | `.__floordiv__(self, other)`|  `>=`  | `.__ge__(self, other)` |\n",
        "|  `%`   | `.__mod__(self, other)`     |  `>`   | `.__gt__(self, other)` |\n",
        "|  `**`  | `.__pow__(self, other)`     |        | |\n",
        "\n",
        "Vamos incrementar nossa classe MagicPotion, para que ela dê suporte ao operador de soma (+), além dos operadores lógicos maior que (>) e menor que (<).\n",
        "\n"
      ],
      "metadata": {
        "id": "ow1SZ2aF1S5k"
      }
    },
    {
      "cell_type": "code",
      "source": [
        "class MagicPotion:\n",
        "    def __init__(self, nome, pontos_cura):\n",
        "        self.nome = nome\n",
        "        self.pontos_cura = pontos_cura\n",
        "\n",
        "    def __str__(self,):\n",
        "        return f\"Poção {self.nome}: {self.pontos_cura} pontos de cura\"\n",
        "\n",
        "    def __repr__(self):\n",
        "        class_name = type(self).__name__\n",
        "        return f\"{class_name}(nome={self.nome!r}, pontos_cura={self.pontos_cura!r})\"\n",
        "\n",
        "    # Sobrecarga de operadores aritméticos\n",
        "    def __add__(self, other):\n",
        "        if isinstance(other, MagicPotion):\n",
        "            return MagicPotion(f\"Mistura de {self.nome} e {other.nome}\", self.pontos_cura + other.pontos_cura)\n",
        "        elif isinstance(other, int):\n",
        "            return MagicPotion(f\"{self.nome} e {other} colheres de açúcar\", self.pontos_cura + other)\n",
        "\n",
        "    def __gt__(self, other):\n",
        "        return self.pontos_cura > other.pontos_cura\n",
        "\n",
        "    def __lt__(self, other):\n",
        "        return self.pontos_cura < other.pontos_cura"
      ],
      "metadata": {
        "id": "SnU7OuyeVH5t"
      },
      "execution_count": null,
      "outputs": []
    },
    {
      "cell_type": "markdown",
      "source": [
        "De acordo com a nossa implementação, ao somar dois objetos tipo `MagicPotion`, instanciamos um novo objeto com a soma dos atributos `pontos_cura` dos objetos envolvidos na soma. Note que a implementação do método `__add__` deve seguir uma estrutura determinada\n",
        "```python\n",
        "def __add__(self, other):\n",
        "```\n",
        "onde o primeiro atributo `self` é uma referência à instância do lado esquerdo da expressão soma, e o segundo atributo `other` é a referência ao objeto do lado direito da expressão, como apresentado a seguir.\n",
        "```python\n",
        "pocao1 + pocao2 # self + other\n",
        "# equivale a pocao1.__add__(pocao2)\n",
        "```\n",
        "Também implementamos em `__add__` a possibilidade de somar um objeto `MagicPotion` com um valor inteiro. Neste caso, somamos os pontos de cura da poção com o valor inteiro fornecido. Note que o inteiro deve estar à direita do operador soma.\n",
        "```python\n",
        "pocao1 + 10 # self + other\n",
        "# equivale a pocao1.__add__(10)\n",
        "```\n",
        "A seguir apresentamos exemplos de uso dos operadores implementados através dos métodos mágicos.\n"
      ],
      "metadata": {
        "id": "M1XEa_9RYHmE"
      }
    },
    {
      "cell_type": "code",
      "source": [
        "# Exemplo de uso\n",
        "pocao1 = MagicPotion(\"Néctar de Cura\", 50)\n",
        "pocao2 = MagicPotion(\"Essência dos Bosques\", 30)\n",
        "pocao3 = MagicPotion(\"Ambrósia Rejuvenescedora\", 100)\n",
        "\n",
        "print(pocao1 + pocao2)\n",
        "print(pocao1 + 20)\n",
        "\n",
        "print(pocao1 > pocao2)\n",
        "print(pocao2 < pocao3)"
      ],
      "metadata": {
        "id": "B9jPjEEV1TXk",
        "colab": {
          "base_uri": "https://localhost:8080/"
        },
        "outputId": "a1e95c14-10ca-434a-89f9-62d1006dfd7b"
      },
      "execution_count": null,
      "outputs": [
        {
          "output_type": "stream",
          "name": "stdout",
          "text": [
            "Poção Mistura de Néctar de Cura e Essência dos Bosques: 80 pontos de cura\n",
            "Poção Néctar de Cura e 20 colheres de açúcar: 70 pontos de cura\n",
            "True\n",
            "True\n"
          ]
        }
      ]
    },
    {
      "cell_type": "markdown",
      "source": [
        "Note que se tentarmos invocar o operador de forma indevida, por exemplo com um inteiro à esquerda do operador soma, o interpretador irá lançar um erro.\n"
      ],
      "metadata": {
        "id": "gk1obNUMYAtj"
      }
    },
    {
      "cell_type": "code",
      "source": [
        "10 + pocao1"
      ],
      "metadata": {
        "colab": {
          "base_uri": "https://localhost:8080/",
          "height": 158
        },
        "id": "6rj29TNlXCPi",
        "outputId": "93198016-b8ab-4042-d777-8ac898d4b677"
      },
      "execution_count": null,
      "outputs": [
        {
          "output_type": "error",
          "ename": "TypeError",
          "evalue": "unsupported operand type(s) for +: 'int' and 'MagicPotion'",
          "traceback": [
            "\u001b[0;31m---------------------------------------------------------------------------\u001b[0m",
            "\u001b[0;31mTypeError\u001b[0m                                 Traceback (most recent call last)",
            "\u001b[0;32m<ipython-input-10-93967eed995b>\u001b[0m in \u001b[0;36m<cell line: 1>\u001b[0;34m()\u001b[0m\n\u001b[0;32m----> 1\u001b[0;31m \u001b[0;36m10\u001b[0m \u001b[0;34m+\u001b[0m \u001b[0mpocao1\u001b[0m\u001b[0;34m\u001b[0m\u001b[0;34m\u001b[0m\u001b[0m\n\u001b[0m",
            "\u001b[0;31mTypeError\u001b[0m: unsupported operand type(s) for +: 'int' and 'MagicPotion'"
          ]
        }
      ]
    },
    {
      "cell_type": "markdown",
      "source": [
        "### Coleções\n",
        "Para que nossas classes customizadas se comportem como coleções de dados (como listas, dicionários, etc.) devemos definir os seguintes métodos mágicos.\n",
        "\n",
        "* `__getitem__(self, chave)`: Implementa o comportamento de `self[chave]`, ou seja, o acesso de um elemento de seu objeto. Se você simplesmente deseja acessar uma sequência membro da sua classe, os tipos suportados de chave estarão de acordo com a sequência que se deseja acessar.\n",
        "    * listas aceitam inteiros positivos e negativos, além de objetos do tipo `slice(start, stop, step)`\n",
        "    * dicionários aceitam chaves imutáveis (int, str, float, etc..)\n",
        "    * etc...\n",
        "\n",
        "* `__setitem__(self, chave, valor)` : Implementa a atribuição de `valor` a `self[chave]`. Sobre a chave, faça as mesmas considerações de `__getitem__()`. Implemente essa função somente se a coleção que se deseja acessar suporta alteração de valores.\n",
        "* `__contains__(self, item)`: Deve retornar verdadeiro se `item` estiver em `self`, falso caso contrário. Para dicionários, deve considerar as chaves em vez dos valores.\n",
        "* `__len__(self)`: Implementa o comportamento da função embutida `len(obj)`.\n",
        "\n",
        "Veja outros métodos mágicos de coleções: https://docs.python.org/pt-br/3/reference/datamodel.html#emulating-container-types"
      ],
      "metadata": {
        "id": "CLroVGFp7ob2"
      }
    },
    {
      "cell_type": "code",
      "source": [
        "class PotionBag:\n",
        "    def __init__(self):\n",
        "        self.itens = [MagicPotion('Elixir da Vida', 10)]\n",
        "        self.capacidade = 3\n",
        "\n",
        "    # Método especial para permitir acesso a itens pelo índice\n",
        "    def __getitem__(self, chave):\n",
        "        return self.itens[chave]\n",
        "\n",
        "    # Método especial para adicionar itens na bolsa\n",
        "    def __setitem__(self, chave, valor):\n",
        "        print(f'Adicionando {valor.nome}...', end='')\n",
        "        if chave and chave < len(self):\n",
        "            self.itens[chave] = valor\n",
        "            print('pronto!')\n",
        "        elif chave >= self.capacidade:\n",
        "            print('Sua bolsa está cheia!')\n",
        "        else:\n",
        "            self.itens.append(valor)\n",
        "            print('pronto!')\n",
        "\n",
        "    # Método especial para verificar se um item está na bolsa\n",
        "    def __contains__(self, item):\n",
        "        for potion in self.itens:\n",
        "            if potion.nome == item: return True\n",
        "        return False\n",
        "\n",
        "    def __len__(self):\n",
        "        return len(self.itens)"
      ],
      "metadata": {
        "id": "nwEna2NVZbB7"
      },
      "execution_count": null,
      "outputs": []
    },
    {
      "cell_type": "markdown",
      "source": [
        "Na nossa implementação, quando um objeto tipo PotionBag for invocado como uma coleção (ex.: indexação com sintaxe de colchetes) realizamos a operação desejada manipulando o atributo interno itens, uma coleção do tipo lista.\n",
        "\n",
        "Veja no exemplo de uso a seguir como a nossa bolsa de poções pode integrar operações como laços de repetição, indexação, atribuição de item, etc.\n"
      ],
      "metadata": {
        "id": "UPKOXRqJZ2Ju"
      }
    },
    {
      "cell_type": "code",
      "source": [
        "# Exemplo de uso\n",
        "bag = PotionBag()\n",
        "tam_bag = len(bag)\n",
        "for i, pocao in enumerate((pocao1, pocao2, pocao3)):\n",
        "    bag[tam_bag+i] = pocao\n",
        "\n",
        "print('-'*25)\n",
        "\n",
        "print(\"Itens na bolsa:\")\n",
        "for i in range(len(bag)):\n",
        "    print(bag[i])\n",
        "\n",
        "print('-'*25)\n",
        "\n",
        "print(\"A bolsa tem um Néctar de Cura?\", \"Néctar de Cura\" in bag)\n",
        "# Output: O baú contém o 'Magic sword'? True\n",
        "print(\"A bolsa tem a Ambrósia Rejuvenescedora?\", \"Ambrósia Rejuvenescedora\" in bag)\n",
        "# Output: O baú contém o 'Wizard hat'? False"
      ],
      "metadata": {
        "id": "916V2tUQ7osc",
        "colab": {
          "base_uri": "https://localhost:8080/"
        },
        "outputId": "eb0b0ff5-2056-4db3-dca4-792903b2b7e4"
      },
      "execution_count": null,
      "outputs": [
        {
          "output_type": "stream",
          "name": "stdout",
          "text": [
            "Adicionando Néctar de Cura...pronto!\n",
            "Adicionando Essência dos Bosques...pronto!\n",
            "Adicionando Ambrósia Rejuvenescedora...Sua bolsa está cheia!\n",
            "-------------------------\n",
            "Itens na bolsa:\n",
            "Poção Elixir da Vida: 10 pontos de cura\n",
            "Poção Néctar de Cura: 50 pontos de cura\n",
            "Poção Essência dos Bosques: 30 pontos de cura\n",
            "-------------------------\n",
            "A bolsa tem um Néctar de Cura? True\n",
            "A bolsa tem o Ambrósia Rejuvenescedora? False\n"
          ]
        }
      ]
    },
    {
      "cell_type": "markdown",
      "source": [
        "### Protocolo de contexto\n",
        "\n",
        "Para que a sua classe dê suporte ao uso da instrução `with` deve-se seguir um **protocolo** definido, mais especificamente é obrigatrório fornecer implementações para todas as seguintes funções:\n",
        "\n",
        "* `__enter__(self, item)`: A instrução `with` vai vincular o valor de retorno deste método ao(s) alvo(s) especificado(s) na cláusula `as` da instrução, se houver.\n",
        "* `__exit__(self)`: Os parâmetros descrevem a exceção que fez com que o contexto fosse encerrado. Se o contexto foi encerrado sem exceção, todos os três argumentos serão `None`. Se uma exceção for fornecida e o método desejar suprimir a exceção, ele deve retornar um valor verdadeiro.\n",
        "\n",
        "A seguir criamos uma nova classe que representa um portal mágico, que temporariamente aumenta a capacidade de uma bolsa de poções (`bag`). Ao entrar no contexto (`__enter__`), o programa imprime uma mensagem, espera 1 segundo para simular a transição, e então aumenta a capacidade da bolsa em 10 unidades, retornando um tempo de exploração de 3 segundos. Durante esse período, o programa executa ações no mundo mágico. Ao sair do contexto (`__exit__`), a capacidade da bolsa é restaurada ao valor original, e o programa imprime uma mensagem indicando que o portal foi fechado."
      ],
      "metadata": {
        "id": "CiSVV2L4JNyi"
      }
    },
    {
      "cell_type": "code",
      "source": [
        "import time\n",
        "class MagicPortal: # um portal que aumenta o tamanho da sua bolsa\n",
        "\n",
        "    def __init__(self, bag):\n",
        "        self.bag = bag\n",
        "        self.SLEEP_TIME = 1\n",
        "\n",
        "    def __enter__(self):\n",
        "        print(\"Você está prestes a entrar no portal mágico...\")\n",
        "        time.sleep(self.SLEEP_TIME)  # Simula um efeito de entrada\n",
        "        self.bag.capacidade += 10\n",
        "        print(f\"Bem-vindo ao mundo mágico! A capacidade da sua bolsa agora é: {self.bag.capacidade}\")\n",
        "        time.sleep(self.SLEEP_TIME)\n",
        "\n",
        "        return self.SLEEP_TIME*3\n",
        "\n",
        "    def __exit__(self, exc_type, exc_val, exc_tb):\n",
        "        print(\"Você está saindo do mundo mágico...\")\n",
        "        time.sleep(self.SLEEP_TIME)  # Simula um efeito de saída\n",
        "        self.bag.capacidade -= 10\n",
        "        print(\"A capacidade da sua bolsa voltou ao normal :( Esperamos te ver novamente!\")\n",
        "        time.sleep(self.SLEEP_TIME)\n",
        "\n",
        "        if exc_type is None: return True"
      ],
      "metadata": {
        "id": "SuOOtR05Z5R3"
      },
      "execution_count": null,
      "outputs": []
    },
    {
      "cell_type": "markdown",
      "source": [
        "Ao iniciar um contexto `with` com um objeto do tipo MagicPortal, enviamos a referência a uma bolsa de poções, a qual terá sua capacidade ampliada enquanto o contexto estiver ativo.\n"
      ],
      "metadata": {
        "id": "znI6NEmQbY-6"
      }
    },
    {
      "cell_type": "code",
      "source": [
        "# Exemplo de uso\n",
        "with MagicPortal(bag) as tempo_de_exploracao:\n",
        "    print(\"Explorando o mundo mágico...\")\n",
        "    time.sleep(tempo_de_exploracao)\n",
        "\n",
        "# Após sair do contexto, retornamos ao mundo real\n",
        "print(\"De volta ao mundo real.\")"
      ],
      "metadata": {
        "id": "idEjx8xHJRTr",
        "colab": {
          "base_uri": "https://localhost:8080/"
        },
        "outputId": "43ba4051-cd45-4ad1-a590-27a3a8bcf96c"
      },
      "execution_count": null,
      "outputs": [
        {
          "output_type": "stream",
          "name": "stdout",
          "text": [
            "Você está prestes a entrar no portal mágico...\n",
            "Bem-vindo ao mundo mágico! A capacidade da sua bolsa agora é: 13\n",
            "Explorando o mundo mágico...\n",
            "Você está saindo do mundo mágico...\n",
            "A capacidade da sua bolsa voltou ao normal :( Esperamos te ver novamente!\n",
            "De volta ao mundo real.\n"
          ]
        }
      ]
    },
    {
      "cell_type": "markdown",
      "source": [
        "Conheceremos outros protocolos de uso dos métodos mágicos nas aulas seguintes, mas você pode mergulhar [nesse tutorial do Real Python](https://realpython.com/python-magic-methods/) que explica muito bem os principais protocolos.\n",
        "\n",
        "# Referências:\n",
        "* Documentação do Python, [Python Data Model](https://docs.python.org/3/reference/datamodel.html). Atenção especial para:\n",
        "    * Classes personalizadas: https://docs.python.org/pt-br/3/reference/datamodel.html#custom-classes\n",
        "    * Métodos especiais: https://docs.python.org/pt-br/3/reference/datamodel.html#special-method-names\n",
        "\n",
        "* Tutorial do Real Python: [Python Classes: The Power of Object-Oriented Programming](https://realpython.com/python-classes/)\n",
        "* Tutorial do Real Python: [Python's Magic Methods: Leverage Their Power in Your Classes](https://realpython.com/python-magic-methods/)\n",
        "* Tutorial do Geeks4Geeks: https://www.geeksforgeeks.org/decorators-in-python/\n"
      ],
      "metadata": {
        "id": "Ai259DbNlirx"
      }
    }
  ]
}