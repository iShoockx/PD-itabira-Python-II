{
 "cells": [
  {
   "cell_type": "markdown",
   "metadata": {},
   "source": [
    "> Projeto Desenvolve <br>\n",
    "Programação Intermediária com Python <br>\n",
    "Profa. Camila Laranjeira (mila@projetodesenvolve.com.br) <br>\n",
    "\n",
    "# 3.6 - Pandas"
   ]
  },
  {
   "cell_type": "markdown",
   "metadata": {},
   "source": [
    "## Exercícios\n",
    "Antes de continuar, baixe os arquivos das bases de dados de partidas em Copas do Mundo e salve na mesma pasta deste notebook.\n",
    "* https://raw.githubusercontent.com/camilalaranjeira/python-intermediario/main/fifa-wc/matches_1930_2022.csv\n",
    "* https://raw.githubusercontent.com/camilalaranjeira/python-intermediario/main/fifa-wc/matches_1991_2023.csv\n",
    "\n",
    "A célula a seguir já carrega os dados em CSV e ajusta as colunas para trabalharmos com os nomes traduzidos (como fizemos em aula)."
   ]
  },
  {
   "cell_type": "code",
   "execution_count": 1,
   "metadata": {},
   "outputs": [],
   "source": [
    "import pandas as pd\n",
    "pd.set_option('display.max_columns',None)\n",
    "pd.set_option('display.max_rows',None)\n",
    "\n",
    "wcwomen_df = pd.read_csv('matches_1991_2023.csv')\n",
    "wcmen_df   = pd.read_csv('matches_1930_2022.csv')\n",
    "wc = pd.concat((wcwomen_df,wcmen_df)).reset_index()\n",
    "\n",
    "nomes_traduzidos = {'home_team': 'time_1', 'away_team': 'time_2', 'home_score': 'gols_1', 'away_score': 'gols_2',\n",
    "                    'Date': 'data', 'Year': 'ano', 'Host': 'país_sede', 'Attendance': 'comparecimento',\n",
    "                    'Score': 'resultado', 'Round': 'rodada', 'home_goal': 'gols_1_detalhes', 'away_goal': 'gols_2_detalhes',\n",
    "                    'home_own_goal': 'gols_1_contra', 'away_own_goal': 'gols_2_contra',\n",
    "                    'home_penalty_goal': 'gols_1_penalti', 'away_penalty_goal': 'gols_2_penalti',\n",
    "                    'home_red_card': 'cartao_vermelho_1', 'away_red_card': 'cartao_vermelho_2',\n",
    "                    'home_yellow_card_long': 'cartao_amarelo_1', 'away_yellow_card_long': 'cartao_amarelo_2'}\n",
    "\n",
    "wc = wc.loc[:, nomes_traduzidos.keys()]\n",
    "wc.columns = nomes_traduzidos.values()\n",
    "\n",
    "copa = wc['ano'].apply( lambda x: 'Masculina' if x % 2 == 0 else 'Feminina').astype('string')\n",
    "wc['copa'] = copa\n",
    "\n"
   ]
  },
  {
   "cell_type": "markdown",
   "metadata": {},
   "source": [
    "#### Q1.\n",
    "Faça as conversões de tipo necessárias para que a saída do comando `wc.info()` seja como apresentado a seguir. E **salve o novo dataframe** com o comando `df.to_csv('wc_formatado.csv')`.\n",
    "\n",
    "```\n",
    "Data columns (total 21 columns):\n",
    " #   Column             Non-Null Count  Dtype         \n",
    "---  ------             --------------  -----         \n",
    " 0   time_1             1312 non-null   string        \n",
    " 1   time_2             1312 non-null   string        \n",
    " 2   gols_1             1312 non-null   int64         \n",
    " 3   gols_2             1312 non-null   int64         \n",
    " 4   data               1312 non-null   datetime64[ns]\n",
    " 5   ano                1312 non-null   int64         \n",
    " 6   país_sede          1312 non-null   string        \n",
    " 7   comparecimento     1312 non-null   int64         \n",
    " 8   resultado          1312 non-null   string        \n",
    " 9   rodada             1312 non-null   category      \n",
    " 10  gols_1_detalhes    970 non-null    string        \n",
    " 11  gols_2_detalhes    771 non-null    string        \n",
    " 12  gols_1_contra      57 non-null     string        \n",
    " 13  gols_2_contra      30 non-null     string        \n",
    " 14  gols_1_penalti     170 non-null    string        \n",
    " 15  gols_2_penalti     119 non-null    string        \n",
    " 16  cartao_vermelho_1  59 non-null     string        \n",
    " 17  cartao_vermelho_2  65 non-null     string        \n",
    " 18  cartao_amarelo_1   834 non-null    string        \n",
    " 19  cartao_amarelo_2   857 non-null    string        \n",
    " 20  copa               1312 non-null   string \n",
    "```"
   ]
  },
  {
   "cell_type": "code",
   "execution_count": 2,
   "metadata": {},
   "outputs": [
    {
     "name": "stdout",
     "output_type": "stream",
     "text": [
      "<class 'pandas.core.frame.DataFrame'>\n",
      "RangeIndex: 1312 entries, 0 to 1311\n",
      "Data columns (total 21 columns):\n",
      " #   Column             Non-Null Count  Dtype         \n",
      "---  ------             --------------  -----         \n",
      " 0   time_1             1312 non-null   string        \n",
      " 1   time_2             1312 non-null   string        \n",
      " 2   gols_1             1312 non-null   int64         \n",
      " 3   gols_2             1312 non-null   int64         \n",
      " 4   data               1312 non-null   datetime64[ns]\n",
      " 5   ano                1312 non-null   int64         \n",
      " 6   país_sede          1312 non-null   string        \n",
      " 7   comparecimento     1312 non-null   int64         \n",
      " 8   resultado          1312 non-null   object        \n",
      " 9   rodada             1312 non-null   category      \n",
      " 10  gols_1_detalhes    970 non-null    string        \n",
      " 11  gols_2_detalhes    771 non-null    string        \n",
      " 12  gols_1_contra      57 non-null     string        \n",
      " 13  gols_2_contra      30 non-null     string        \n",
      " 14  gols_1_penalti     170 non-null    string        \n",
      " 15  gols_2_penalti     119 non-null    string        \n",
      " 16  cartao_vermelho_1  59 non-null     string        \n",
      " 17  cartao_vermelho_2  65 non-null     string        \n",
      " 18  cartao_amarelo_1   834 non-null    string        \n",
      " 19  cartao_amarelo_2   857 non-null    string        \n",
      " 20  copa               1312 non-null   string        \n",
      "dtypes: category(1), datetime64[ns](1), int64(4), object(1), string(14)\n",
      "memory usage: 206.8+ KB\n"
     ]
    }
   ],
   "source": [
    "\n",
    "wc[['gols_1','gols_2','ano','comparecimento']] = wc[['gols_1','gols_2','ano','comparecimento']].astype('int64')\n",
    "wc['rodada'] = wc['rodada'].astype('category')\n",
    "wc['data'] = pd.to_datetime(wc['data'], format='%Y-%m-%d')\n",
    "wc [['time_1','time_2','país_sede','gols_1_detalhes','gols_2_detalhes','gols_1_contra','gols_2_contra','gols_1_penalti','gols_2_penalti','cartao_vermelho_1','cartao_vermelho_2','cartao_amarelo_1','cartao_amarelo_2','copa']] = wc[['time_1','time_2','país_sede','gols_1_detalhes','gols_2_detalhes','gols_1_contra','gols_2_contra','gols_1_penalti','gols_2_penalti','cartao_vermelho_1','cartao_vermelho_2','cartao_amarelo_1','cartao_amarelo_2','copa']].astype('string')\n",
    "wc.info()\n",
    "wc.to_csv('wc_formatado.csv')"
   ]
  },
  {
   "cell_type": "markdown",
   "metadata": {},
   "source": [
    "#### Q2.\n",
    "Apresente a linha do dataframe `wc` que corresponde ao jogo com maior audiência da história."
   ]
  },
  {
   "cell_type": "code",
   "execution_count": 3,
   "metadata": {},
   "outputs": [
    {
     "data": {
      "text/plain": [
       "time_1                                                         Uruguay\n",
       "time_2                                                          Brazil\n",
       "gols_1                                                               2\n",
       "gols_2                                                               1\n",
       "data                                               1950-07-16 00:00:00\n",
       "ano                                                               1950\n",
       "país_sede                                                       Brazil\n",
       "comparecimento                                                  173850\n",
       "resultado                                                          2–1\n",
       "rodada                                                     Final stage\n",
       "gols_1_detalhes      Juan Alberto Schiaffino · 66|Alcides Ghiggia · 79\n",
       "gols_2_detalhes                                            Friaça · 47\n",
       "gols_1_contra                                                     <NA>\n",
       "gols_2_contra                                                     <NA>\n",
       "gols_1_penalti                                                    <NA>\n",
       "gols_2_penalti                                                    <NA>\n",
       "cartao_vermelho_1                                                 <NA>\n",
       "cartao_vermelho_2                                                 <NA>\n",
       "cartao_amarelo_1                                                  <NA>\n",
       "cartao_amarelo_2                                                  <NA>\n",
       "copa                                                         Masculina\n",
       "Name: 1238, dtype: object"
      ]
     },
     "metadata": {},
     "output_type": "display_data"
    }
   ],
   "source": [
    "comparecimento_maximo = wc.loc[wc['comparecimento'].idxmax()]\n",
    "display(comparecimento_maximo)"
   ]
  },
  {
   "cell_type": "markdown",
   "metadata": {},
   "source": [
    "#### Q3.\n",
    "Aplicando operações sobre as colunas `ano` e `copa` do dataframe `wc`, apresente quantas copas femininas e quantas copas masculinas já aconteceram na história.\n",
    "\n",
    "Exemplo de saída (valores inventados):\n",
    "```\n",
    "Masculina: 22\n",
    "Feminina: 9\n",
    "```"
   ]
  },
  {
   "cell_type": "code",
   "execution_count": 4,
   "metadata": {},
   "outputs": [
    {
     "name": "stdout",
     "output_type": "stream",
     "text": [
      "Masculina: 22.0\n",
      "Feminina: 9.0\n"
     ]
    }
   ],
   "source": [
    "df_ordenado = wc.sort_values('ano')\n",
    "df_copa = df_ordenado.groupby('copa')\n",
    "df_1 = df_copa.get_group('Masculina')\n",
    "df_2 = df_copa.get_group('Feminina')\n",
    "quantidade_copas_masculina = (df_1.iloc[-1,5] - df_1.iloc[0,5])/4 - 2 + 1# 2ª Guerra Mundial  e a primeira copa conta\n",
    "quantidade_copas_feminina = (df_2.iloc[-1,5] - df_2.iloc[0,5])/4 + 1 # A primeira conta\n",
    "print(f'Masculina: {quantidade_copas_masculina}')\n",
    "print(f'Feminina: {quantidade_copas_feminina}')\n",
    "\n",
    "# display(df_1.head())\n",
    "# display(df_2.head())"
   ]
  },
  {
   "cell_type": "markdown",
   "metadata": {},
   "source": [
    "#### Q3. \n",
    "Crie um dataframe `participacao` com as colunas `país`, `copa`, e `num_copas` que armazena a quantidade de copas do mundo que cada país participou, informando se é da copa masculina ou feminina. Ao final imprima, como apresentado a seguir, o top 5 países de cada competição que mais participou de copas do mundo.\n",
    "\n",
    "Exemplo de saída (valores inventados):\n",
    "```\n",
    "país            copa        num_copas\n",
    "Brazil          Feminina    8\n",
    "Unites States   Feminina    8\n",
    "Germany         Feminina    8\n",
    "Japan           Feminina    7\n",
    "Colombia        Feminina    7\n",
    "```\n",
    "\n",
    "```\n",
    "país            copa        num_copas\n",
    "Brazil          Masculina   21\n",
    "Germany         Masculina   21\n",
    "Argentina       Masculina   20\n",
    "England         Masculina   20\n",
    "Mexico          Masculina   20\n",
    "```"
   ]
  },
  {
   "cell_type": "code",
   "execution_count": 5,
   "metadata": {},
   "outputs": [
    {
     "name": "stdout",
     "output_type": "stream",
     "text": [
      "Top 5 Feminina:\n",
      "        pais      copa  num_copas\n",
      "78   Nigeria  Feminina          9\n",
      "110   Sweden  Feminina          9\n",
      "63     Japan  Feminina          9\n",
      "81    Norway  Feminina          9\n",
      "45   Germany  Feminina          9\n",
      "\n",
      "Top 5 Masculina:\n",
      "         pais       copa  num_copas\n",
      "11     Brazil  Masculina         22\n",
      "3   Argentina  Masculina         18\n",
      "60      Italy  Masculina         18\n",
      "71     Mexico  Masculina         17\n",
      "44     France  Masculina         16\n"
     ]
    }
   ],
   "source": [
    "\n",
    "# Supondo que 'wc' é o DataFrame original\n",
    "# 1. Unir os países das colunas time_1 e time_2 em um único DataFrame\n",
    "times_1 = wc[['time_1', 'ano', 'copa','gols_1','gols_2','cartao_amarelo_1','cartao_amarelo_2']].rename(columns={'time_1': 'pais'})\n",
    "times_2 = wc[['time_2', 'ano', 'copa','gols_1','gols_2','cartao_amarelo_1','cartao_amarelo_2']].rename(columns={'time_2': 'pais'})\n",
    "\n",
    "# 2. Concatenar os dois DataFrames\n",
    "todos_times = pd.concat([times_1, times_2])\n",
    "\n",
    "# 3. Remover duplicatas: um país pode aparecer mais de uma vez por ano/copa\n",
    "todos_times = todos_times.drop_duplicates()\n",
    "\n",
    "# 4. Contar quantos anos únicos cada país participou, por tipo de copa\n",
    "participacao = todos_times.groupby(['pais', 'copa'])['ano'].nunique().reset_index(name='num_copas')\n",
    "\n",
    "# 5. Mostrar os 5 países que mais participaram de cada copa\n",
    "top_feminina = participacao[participacao['copa'] == 'Feminina'].sort_values('num_copas', ascending=False).head(5)\n",
    "top_masculina = participacao[participacao['copa'] == 'Masculina'].sort_values('num_copas', ascending=False).head(5)\n",
    "\n",
    "# 6. Mostrar resultados\n",
    "print(\"Top 5 Feminina:\")\n",
    "print(top_feminina)\n",
    "print(\"\\nTop 5 Masculina:\")\n",
    "print(top_masculina)"
   ]
  },
  {
   "cell_type": "markdown",
   "metadata": {},
   "source": [
    "#### Q4. \n",
    "* Crie um dataframe `gols` com duas colunas `país` e `total_gols` com o total de gols marcados por cada país durante todas as copas do mundo, juntando gols em casa (`gols_1`) e gols como time visitante (`gols_2`).\n",
    "* Imprima o dataframe `gols` ordenado de forma decrescente, para que os times com mais gols fiquem no topo.\n",
    "\n",
    "Segue um exemplo ilustrativo com o formato do dataframe resultado:\n",
    "\n",
    "```\n",
    "país        total_gols\n",
    "Brazil      120\n",
    "Argentina   112\n",
    "Germany     107\n",
    "...\n",
    "```"
   ]
  },
  {
   "cell_type": "code",
   "execution_count": 6,
   "metadata": {},
   "outputs": [
    {
     "data": {
      "text/html": [
       "<div>\n",
       "<style scoped>\n",
       "    .dataframe tbody tr th:only-of-type {\n",
       "        vertical-align: middle;\n",
       "    }\n",
       "\n",
       "    .dataframe tbody tr th {\n",
       "        vertical-align: top;\n",
       "    }\n",
       "\n",
       "    .dataframe thead th {\n",
       "        text-align: right;\n",
       "    }\n",
       "</style>\n",
       "<table border=\"1\" class=\"dataframe\">\n",
       "  <thead>\n",
       "    <tr style=\"text-align: right;\">\n",
       "      <th></th>\n",
       "      <th>pais</th>\n",
       "      <th>gols</th>\n",
       "    </tr>\n",
       "  </thead>\n",
       "  <tbody>\n",
       "    <tr>\n",
       "      <th>20</th>\n",
       "      <td>Brazil</td>\n",
       "      <td>308</td>\n",
       "    </tr>\n",
       "    <tr>\n",
       "      <th>17</th>\n",
       "      <td>Germany</td>\n",
       "      <td>254</td>\n",
       "    </tr>\n",
       "    <tr>\n",
       "      <th>13</th>\n",
       "      <td>United States</td>\n",
       "      <td>182</td>\n",
       "    </tr>\n",
       "    <tr>\n",
       "      <th>4</th>\n",
       "      <td>France</td>\n",
       "      <td>180</td>\n",
       "    </tr>\n",
       "    <tr>\n",
       "      <th>2</th>\n",
       "      <td>Sweden</td>\n",
       "      <td>165</td>\n",
       "    </tr>\n",
       "  </tbody>\n",
       "</table>\n",
       "</div>"
      ],
      "text/plain": [
       "             pais  gols\n",
       "20         Brazil   308\n",
       "17        Germany   254\n",
       "13  United States   182\n",
       "4          France   180\n",
       "2          Sweden   165"
      ]
     },
     "metadata": {},
     "output_type": "display_data"
    }
   ],
   "source": [
    "dict_gols = {}\n",
    "\n",
    "for _, row in wc.iterrows():\n",
    "    dict_gols[row['time_1']] = dict_gols.get(row['time_1'], 0) + row['gols_1']\n",
    "    dict_gols[row['time_2']] = dict_gols.get(row['time_2'], 0) + row['gols_2']\n",
    "\n",
    "df_gols = pd.DataFrame.from_dict(dict_gols, orient='index', columns=['gols'])\n",
    "df_gols.reset_index(inplace=True)\n",
    "df_gols.columns = ['pais', 'gols']\n",
    "df_gols = df_gols.sort_values('gols', ascending=False).head(5)\n",
    "\n",
    "display(df_gols)\n",
    "\n"
   ]
  },
  {
   "cell_type": "markdown",
   "metadata": {},
   "source": [
    "#### Q5. \n",
    "Qual país tomou mais cartões amarelos somando todas as copas?\n",
    "\n",
    "Neste exercício você vai trabalhar com as colunas `cartao_amarelo_1` e `cartao_amarelo_2` onde cada observação é uma string represetando uma lista dos cartões amarelos de um único jogo na forma `minuto|placar|jogador(a)`. Por exemplo:\n",
    "```\n",
    "['16’|1:0|Rosana Gómez', '20’|2:0|Gabriela Chávez]\n",
    "```\n",
    "\n",
    "Recomendo criar colunas `num_cartoes_1` e `num_cartoes_2` a partir de cada coluna `cartao_amarelo_X` usando o método genérico `apply` para chamar uma função que você vai criar para transformar uma observação de cartão amarelo em uma contagem de elementos da lista. \n",
    "\n",
    "Lembre de levar em consideração que muitas observações são `NaN`. \n",
    "\n",
    "Em seguida faça sua mágica para agrupar as informações por país, acumular os cartões de jogos em casa e jogos visitante, e produzir o resultado final como apresentado a seguir (valores inventados):\n",
    "\n",
    "```\n",
    "país        cartões amarelos\n",
    "Argentina   97\n",
    "England     93\n",
    "Australia   93\n",
    "...\n",
    "```"
   ]
  },
  {
   "cell_type": "code",
   "execution_count": 7,
   "metadata": {},
   "outputs": [
    {
     "data": {
      "text/html": [
       "<div>\n",
       "<style scoped>\n",
       "    .dataframe tbody tr th:only-of-type {\n",
       "        vertical-align: middle;\n",
       "    }\n",
       "\n",
       "    .dataframe tbody tr th {\n",
       "        vertical-align: top;\n",
       "    }\n",
       "\n",
       "    .dataframe thead th {\n",
       "        text-align: right;\n",
       "    }\n",
       "</style>\n",
       "<table border=\"1\" class=\"dataframe\">\n",
       "  <thead>\n",
       "    <tr style=\"text-align: right;\">\n",
       "      <th></th>\n",
       "      <th>pais</th>\n",
       "      <th>cartoes_amarelos</th>\n",
       "    </tr>\n",
       "  </thead>\n",
       "  <tbody>\n",
       "    <tr>\n",
       "      <th>20</th>\n",
       "      <td>Brazil</td>\n",
       "      <td>168</td>\n",
       "    </tr>\n",
       "    <tr>\n",
       "      <th>19</th>\n",
       "      <td>Argentina</td>\n",
       "      <td>162</td>\n",
       "    </tr>\n",
       "    <tr>\n",
       "      <th>17</th>\n",
       "      <td>Germany</td>\n",
       "      <td>124</td>\n",
       "    </tr>\n",
       "    <tr>\n",
       "      <th>6</th>\n",
       "      <td>Netherlands</td>\n",
       "      <td>117</td>\n",
       "    </tr>\n",
       "    <tr>\n",
       "      <th>18</th>\n",
       "      <td>Italy</td>\n",
       "      <td>108</td>\n",
       "    </tr>\n",
       "  </tbody>\n",
       "</table>\n",
       "</div>"
      ],
      "text/plain": [
       "           pais  cartoes_amarelos\n",
       "20       Brazil               168\n",
       "19    Argentina               162\n",
       "17      Germany               124\n",
       "6   Netherlands               117\n",
       "18        Italy               108"
      ]
     },
     "metadata": {},
     "output_type": "display_data"
    }
   ],
   "source": [
    "dict_cartoes = {}\n",
    "def contar_cartoes(valor):\n",
    "    if pd.isna(valor):\n",
    "        return 0\n",
    "    return len(valor.split(','))\n",
    "num_cartoes = wc\n",
    "num_cartoes['num_cartoes_1'] = num_cartoes['cartao_amarelo_1'].apply(contar_cartoes)\n",
    "num_cartoes['num_cartoes_2'] = num_cartoes['cartao_amarelo_2'].apply(contar_cartoes)\n",
    "\n",
    "for _,row in num_cartoes.iterrows():\n",
    "    dict_cartoes[row['time_1']] = dict_cartoes.get(row['time_1'],0) + row['num_cartoes_1']\n",
    "    dict_cartoes[row['time_2']] = dict_cartoes.get(row['time_2'],0) + row['num_cartoes_2']\n",
    "\n",
    "df_cartoes = pd.DataFrame.from_dict(dict_cartoes, orient='index', columns=['cartoes_amarelos'])\n",
    "df_cartoes.reset_index(inplace=True)\n",
    "df_cartoes.columns = ['pais', 'cartoes_amarelos']\n",
    "df_cartoes = df_cartoes.sort_values('cartoes_amarelos', ascending=False).head(5)\n",
    "\n",
    "\n",
    "\n",
    "display(df_cartoes)"
   ]
  },
  {
   "cell_type": "markdown",
   "metadata": {},
   "source": [
    "#### Q6.\n",
    "Qual o top10 jogadores com mais gols em copa? Considere gols em jogo e gols de pênalti.\n",
    "\n",
    "Para conseguir essa informação, você precisará trabalhar com as colunas:\n",
    "```\n",
    "10  gols_1_detalhes         \n",
    "11  gols_2_detalhes    \n",
    "14  gols_1_penalti     \n",
    "15  gols_2_penalti     \n",
    "```\n",
    "\n",
    "Essas também são colunas textuais, onde cada observações apresenta todos os gols de uma partida separados pelo caracter `|`. Cada gol está na forma `'Jogador(a) · minuto’'`. Por exemplo:\n",
    "```\n",
    "'Alex Morgan · 12’|Rose Lavelle · 20’'\n",
    "```\n",
    "\n",
    "Lembre de levar em consideração que muitas observações são `NaN`. \n",
    "\n",
    "Recomendo criar um dicionário à parte, onde cada chave será um jogador encontrado nessas colunas do dataframe `wc` e o valor correspondente será a contagem de ocorrências desses nomes.\n",
    "\n",
    "Em seguida basta converter o seu dicionário em um dataframe e imprimí-lo na forma (valores não são inventados 😁):\n",
    "```\n",
    "jogador(a)      num_gols \n",
    "Marta           17\n",
    "Miroslav Klose  16\n",
    "... \n",
    "```"
   ]
  },
  {
   "cell_type": "code",
   "execution_count": null,
   "metadata": {},
   "outputs": [
    {
     "ename": "TypeError",
     "evalue": "argument of type 'NAType' is not iterable",
     "output_type": "error",
     "traceback": [
      "\u001b[1;31m---------------------------------------------------------------------------\u001b[0m",
      "\u001b[1;31mTypeError\u001b[0m                                 Traceback (most recent call last)",
      "Cell \u001b[1;32mIn[10], line 35\u001b[0m\n\u001b[0;32m     33\u001b[0m         dict_gol_jogadores[jogador[\u001b[38;5;241m0\u001b[39m]] \u001b[38;5;241m=\u001b[39m dict_gol_jogadores\u001b[38;5;241m.\u001b[39mget(jogador[\u001b[38;5;241m0\u001b[39m],\u001b[38;5;241m0\u001b[39m ) \u001b[38;5;241m+\u001b[39m \u001b[38;5;241m1\u001b[39m \n\u001b[0;32m     34\u001b[0m gol \u001b[38;5;241m=\u001b[39m row[\u001b[38;5;124m'\u001b[39m\u001b[38;5;124mgols_2_detalhes\u001b[39m\u001b[38;5;124m'\u001b[39m]\n\u001b[1;32m---> 35\u001b[0m \u001b[38;5;28;01mif\u001b[39;00m \u001b[38;5;124;43m\"\u001b[39;49m\u001b[38;5;124;43m|\u001b[39;49m\u001b[38;5;124;43m\"\u001b[39;49m\u001b[43m \u001b[49m\u001b[38;5;129;43;01min\u001b[39;49;00m\u001b[43m \u001b[49m\u001b[43mgol\u001b[49m:\n\u001b[0;32m     36\u001b[0m     gol \u001b[38;5;241m=\u001b[39m gol\u001b[38;5;241m.\u001b[39msplit(\u001b[38;5;124m\"\u001b[39m\u001b[38;5;124m|\u001b[39m\u001b[38;5;124m\"\u001b[39m)\n\u001b[0;32m     37\u001b[0m     \u001b[38;5;28;01mfor\u001b[39;00m jogador \u001b[38;5;129;01min\u001b[39;00m gol:\n",
      "\u001b[1;31mTypeError\u001b[0m: argument of type 'NAType' is not iterable"
     ]
    }
   ],
   "source": [
    "dict_gol_jogadores = {}\n",
    "for index,row in wc.iterrows():\n",
    "    if row['gols_1'] == row['gols_2']:\n",
    "        \n",
    "        gol = row['gols_1_detalhes']\n",
    "        if pd.notna(gol):\n",
    "          continue  \n",
    "        \n",
    "        elif \"|\" in gol:\n",
    "            gol = gol.split(\"|\")\n",
    "            for jogador in gol:\n",
    "                jogador.split(\"·\")\n",
    "                dict_gol_jogadores[jogador[0]] = dict_gol_jogadores.get(jogador[0],0 ) + 1 \n",
    "        \n",
    "        gol = row['gols_2_detalhes']\n",
    "        if pd.notna(gol):\n",
    "          continue\n",
    "        \n",
    "        elif \"|\" in gol:\n",
    "            gol = gol.split(\"|\")\n",
    "            for jogador in gol:\n",
    "                jogador.split(\"·\")\n",
    "                dict_gol_jogadores[jogador[0]] = dict_gol_jogadores.get(jogador[0],0) + 1 \n",
    "        \n",
    "    \n",
    "    else:\n",
    "        gol = row['gols_1_detalhes']\n",
    "        row\n",
    "        if \"|\" in gol:\n",
    "            gol = gol.split(\"|\")\n",
    "            for jogador in gol:\n",
    "                jogador.split(\"·\")\n",
    "                dict_gol_jogadores[jogador[0]] = dict_gol_jogadores.get(jogador[0],0 ) + 1 \n",
    "        gol = row['gols_2_detalhes']\n",
    "        \n",
    "        if \"|\" in gol:\n",
    "            gol = gol.split(\"|\")\n",
    "            for jogador in gol:\n",
    "                jogador.split(\"·\")\n",
    "                dict_gol_jogadores[jogador[0]] = dict_gol_jogadores.get(jogador[0],0) + 1 \n"
   ]
  }
 ],
 "metadata": {
  "kernelspec": {
   "display_name": "Python 3",
   "language": "python",
   "name": "python3"
  },
  "language_info": {
   "codemirror_mode": {
    "name": "ipython",
    "version": 3
   },
   "file_extension": ".py",
   "mimetype": "text/x-python",
   "name": "python",
   "nbconvert_exporter": "python",
   "pygments_lexer": "ipython3",
   "version": "3.12.3"
  }
 },
 "nbformat": 4,
 "nbformat_minor": 2
}
