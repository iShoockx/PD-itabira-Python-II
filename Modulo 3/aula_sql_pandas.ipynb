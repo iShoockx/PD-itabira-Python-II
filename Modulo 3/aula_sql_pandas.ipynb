{
 "cells": [
  {
   "cell_type": "code",
   "execution_count": 2,
   "id": "79bcfe30",
   "metadata": {},
   "outputs": [
    {
     "name": "stdout",
     "output_type": "stream",
     "text": [
      "Connection to SQLite DB successful\n",
      "Erro: 'table item_pedido already exists'\n",
      "Erro: 'table produto already exists'\n",
      "Erro: 'table pedido already exists'\n",
      "Query executada.\n",
      "5 linha(s) afetadas\n",
      "[('item_pedido',), ('sqlite_sequence',), ('produto',), ('pedido',)] \n",
      "\n",
      "Query executada.\n",
      "5 linha(s) afetadas\n",
      "Query executada.\n",
      "0 linha(s) afetadas\n",
      "Query executada.\n",
      "5 linha(s) afetadas\n"
     ]
    }
   ],
   "source": [
    "import sqlite3\n",
    "from sqlite3 import Error\n",
    "def create_connection(path):\n",
    "    try:\n",
    "        connection = sqlite3.connect(path)\n",
    "        print('Connection to SQLite DB successful')\n",
    "        return connection\n",
    "    except Error as e:\n",
    "        print(f'The error {e} occurred')\n",
    "        return None\n",
    "\n",
    "\n",
    "connection = create_connection(\"pizza_app.sqlite\")\n",
    "def execute_query(connection,query): # Da para criar banco de dados aqui e inserir novas linhas\n",
    "    cursor  = connection.cursor()\n",
    "    try:\n",
    "        cursor.execute(query)\n",
    "\n",
    "        # commit necessario para insert\n",
    "        connection.commit()\n",
    "\n",
    "        print('Query executada.')\n",
    "        if cursor.rowcount != -1:\n",
    "            print(f\"{cursor.rowcount} linha(s) afetadas\")\n",
    "    except Error as e:\n",
    "        print(f\"Erro: '{e}'\")\n",
    "\n",
    "create_item_pedido = \"\"\"\n",
    "CREATE TABLE item_pedido (\n",
    "    id_item INTEGER PRIMARY KEY AUTOINCREMENT,\n",
    "    id_pedido INTEGER,\n",
    "    id_produto INTEGER,\n",
    "    quantidade INTEGER\n",
    ");\"\"\"\n",
    "execute_query(connection, create_item_pedido)\n",
    "\n",
    "create_produto_table = \"\"\"CREATE TABLE produto (\n",
    "    id_produto INTEGER PRIMARY KEY AUTOINCREMENT,\n",
    "    tipo VARCHAR(50),\n",
    "    desc_item VARCHAR(100),\n",
    "    vl_preco DECIMAL(10,2)\n",
    ");\"\"\"\n",
    "execute_query(connection,create_produto_table)\n",
    "\n",
    "#Cria a tabela pedido\n",
    "create_pedido_table = \"\"\"CREATE TABLE pedido (\n",
    "    id_pedido INTEGER PRIMARY KEY AUTOINCREMENT,\n",
    "    dt_pedido DATE,\n",
    "    fl_ketchup BOOLEAN,\n",
    "    desc_uf CHAR(2),\n",
    "    txt_recado TEXT);\"\"\"\n",
    "execute_query(connection,create_pedido_table)\n",
    "\n",
    "#Inserindo produto\n",
    "insert_produto =\"\"\"INSERT INTO\n",
    "produto (tipo,desc_item,vl_preco)\n",
    "VALUES\n",
    "('ingrediente', 'camarão', 6),\n",
    "('massa', 'tradicional', '9.25'),\n",
    "('borda', 'tradicional', 0),\n",
    "('queijo', 'muçarela', 4),\n",
    "('bebida', 'refrigerante', 5);\n",
    "\"\"\"\n",
    "execute_query(connection,insert_produto)\n",
    "\n",
    "#Inserindo pedido\n",
    "insert_pedido = \"\"\"INSERT INTO\n",
    "pedido(dt_pedido,fl_ketchup, desc_uf, txt_recado)\n",
    "VALUES\n",
    "('2023-06-01', TRUE, 'MG', 'Capricha no queijo!');\"\"\"\n",
    "\n",
    "#inserindo item_pedido\n",
    "itens = (\n",
    "    {'id_pedido': 1, 'id_produto': 2, 'qtd': 1},\n",
    "    {'id_pedido': 1, 'id_produto': 3, 'qtd': 1},\n",
    "    {'id_pedido': 1, 'id_produto': 1, 'qtd': 1},\n",
    "    {'id_pedido': 1, 'id_produto': 4, 'qtd': 2},\n",
    "    {'id_pedido': 1, 'id_produto': 5, 'qtd': 3}\n",
    ")\n",
    "insert_item_pedido =\"\"\"INSERT INTO item_pedido (id_pedido, id_produto, quantidade)\n",
    "VALUES(:id_pedido, :id_produto, :qtd);\"\"\"\n",
    "\n",
    "cursor = connection.cursor()\n",
    "cursor.executemany(insert_item_pedido,itens)\n",
    "connection.commit()\n",
    "cursor.close()\n",
    "\n",
    "\n",
    "# Funçao de leitura\n",
    "def execute_read_query(connection,query):\n",
    "    cursor =connection.cursor()\n",
    "    result = None\n",
    "    try:\n",
    "        cursor.execute(query)\n",
    "        result = cursor.fetchall()\n",
    "        \n",
    "        return result\n",
    "    except Error as e:\n",
    "        print(f'Erro: {e}')\n",
    "\n",
    "#leitura table name\n",
    "\n",
    "select_table_names = \"Select name FROM sqlite_master Where type='table';\"\n",
    "tables = execute_read_query(connection,select_table_names)\n",
    "print(tables,'\\n')\n",
    "\n",
    "execute_query(connection, \"DELETE FROM item_pedido\")\n",
    "execute_query(connection, \"DELETE FROM pedido\")\n",
    "execute_query(connection, \"DELETE FROM produto\")"
   ]
  },
  {
   "cell_type": "code",
   "execution_count": 3,
   "id": "c1ac6e32",
   "metadata": {},
   "outputs": [
    {
     "name": "stdout",
     "output_type": "stream",
     "text": [
      "[(1106,)]\n"
     ]
    },
    {
     "data": {
      "text/plain": [
       "[(0, '2023-05-11', None, 'GO', None),\n",
       " (1, '2023-05-11', None, 'PR', 'Aquela pizza perfeita! :-D'),\n",
       " (2, '2023-05-11', None, 'SP', 'Muito obrigado!!'),\n",
       " (3, '2023-05-11', None, 'SP', None),\n",
       " (4, '2023-05-11', None, 'RS', 'Capricha no peperoni')]"
      ]
     },
     "execution_count": 3,
     "metadata": {},
     "output_type": "execute_result"
    }
   ],
   "source": [
    "import pandas as pd\n",
    "df_pedido = pd.read_csv('pedido.csv')\n",
    "df_pedido.to_sql ('pedido', connection, if_exists='append', index=False)\n",
    "\n",
    "count_rows = \"SELECT COUNT(id_pedido) as count_id FROM pedido;\"\n",
    "print(execute_read_query(connection, count_rows))\n",
    "\n",
    "select_all = \"SELECT * FROM pedido WHERE id_pedido < 5;\"\n",
    "execute_read_query(connection,select_all)"
   ]
  },
  {
   "cell_type": "code",
   "execution_count": null,
   "id": "156364bb",
   "metadata": {},
   "outputs": [
    {
     "name": "stdout",
     "output_type": "stream",
     "text": [
      "Requirement already satisfied: mysql-connector-python in c:\\users\\joão vitor\\appdata\\local\\programs\\python\\python312\\lib\\site-packages (9.2.0)\n"
     ]
    },
    {
     "name": "stderr",
     "output_type": "stream",
     "text": [
      "\n",
      "[notice] A new release of pip is available: 24.3.1 -> 25.1.1\n",
      "[notice] To update, run: python.exe -m pip install --upgrade pip\n"
     ]
    }
   ],
   "source": [
    "\n"
   ]
  }
 ],
 "metadata": {
  "kernelspec": {
   "display_name": "Python 3",
   "language": "python",
   "name": "python3"
  },
  "language_info": {
   "codemirror_mode": {
    "name": "ipython",
    "version": 3
   },
   "file_extension": ".py",
   "mimetype": "text/x-python",
   "name": "python",
   "nbconvert_exporter": "python",
   "pygments_lexer": "ipython3",
   "version": "3.12.3"
  }
 },
 "nbformat": 4,
 "nbformat_minor": 5
}
