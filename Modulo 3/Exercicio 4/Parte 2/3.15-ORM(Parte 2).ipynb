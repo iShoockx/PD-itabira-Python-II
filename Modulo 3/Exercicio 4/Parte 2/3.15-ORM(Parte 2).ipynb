{
 "cells": [
  {
   "cell_type": "markdown",
   "metadata": {},
   "source": [
    "## Exercícios\n",
    "\n",
    "> Retirados de [learn-python: sqlalchemy_orm-questions](https://aviadr1.github.io/learn-advanced-python/11_db_access/exercise/sqlalchemy_orm-questions.html).\n",
    "\n",
    "#### Q1.\n",
    "\n",
    "Baixa e extraia o arquivo compactado com o banco de dados [Chinook database](https://www.sqlitetutorial.net/sqlite-sample-database/). Salve o arquivo `chinook.db` na mesma pasta deste script.\n",
    "* Link para baixar: http://www.sqlitetutorial.net/wp-content/uploads/2018/03/chinook.zip\n",
    "\n",
    "<img width=500 src=https://www.sqlitetutorial.net/wp-content/uploads/2015/11/sqlite-sample-database-color.jpg>\n"
   ]
  },
  {
   "cell_type": "markdown",
   "metadata": {},
   "source": [
    "#### Q2.\n",
    "\n",
    "Leia o código e os comentários das células a seguir para entender como acessamos os modelos ORM de um banco já existente."
   ]
  },
  {
   "cell_type": "code",
   "execution_count": 52,
   "metadata": {},
   "outputs": [
    {
     "name": "stdout",
     "output_type": "stream",
     "text": [
      "albums\n",
      "['AlbumId', 'Title', 'ArtistId']\n",
      "[('AlbumId', Column('AlbumId', INTEGER(), table=<albums>, primary_key=True, nullable=False)), ('Title', Column('Title', NVARCHAR(length=160), table=<albums>, nullable=False)), ('ArtistId', Column('ArtistId', INTEGER(), ForeignKey('artists.ArtistId'), table=<albums>, nullable=False))]\n",
      "-------------------------\n",
      "artists\n",
      "['ArtistId', 'Name']\n",
      "[('ArtistId', Column('ArtistId', INTEGER(), table=<artists>, primary_key=True, nullable=False)), ('Name', Column('Name', NVARCHAR(length=120), table=<artists>))]\n",
      "-------------------------\n",
      "customers\n",
      "['CustomerId', 'FirstName', 'LastName', 'Company', 'Address', 'City', 'State', 'Country', 'PostalCode', 'Phone', 'Fax', 'Email', 'SupportRepId']\n",
      "[('CustomerId', Column('CustomerId', INTEGER(), table=<customers>, primary_key=True, nullable=False)), ('FirstName', Column('FirstName', NVARCHAR(length=40), table=<customers>, nullable=False)), ('LastName', Column('LastName', NVARCHAR(length=20), table=<customers>, nullable=False)), ('Company', Column('Company', NVARCHAR(length=80), table=<customers>)), ('Address', Column('Address', NVARCHAR(length=70), table=<customers>)), ('City', Column('City', NVARCHAR(length=40), table=<customers>)), ('State', Column('State', NVARCHAR(length=40), table=<customers>)), ('Country', Column('Country', NVARCHAR(length=40), table=<customers>)), ('PostalCode', Column('PostalCode', NVARCHAR(length=10), table=<customers>)), ('Phone', Column('Phone', NVARCHAR(length=24), table=<customers>)), ('Fax', Column('Fax', NVARCHAR(length=24), table=<customers>)), ('Email', Column('Email', NVARCHAR(length=60), table=<customers>, nullable=False)), ('SupportRepId', Column('SupportRepId', INTEGER(), ForeignKey('employees.EmployeeId'), table=<customers>))]\n",
      "-------------------------\n",
      "employees\n",
      "['EmployeeId', 'LastName', 'FirstName', 'Title', 'ReportsTo', 'BirthDate', 'HireDate', 'Address', 'City', 'State', 'Country', 'PostalCode', 'Phone', 'Fax', 'Email']\n",
      "[('EmployeeId', Column('EmployeeId', INTEGER(), table=<employees>, primary_key=True, nullable=False)), ('LastName', Column('LastName', NVARCHAR(length=20), table=<employees>, nullable=False)), ('FirstName', Column('FirstName', NVARCHAR(length=20), table=<employees>, nullable=False)), ('Title', Column('Title', NVARCHAR(length=30), table=<employees>)), ('ReportsTo', Column('ReportsTo', INTEGER(), ForeignKey('employees.EmployeeId'), table=<employees>)), ('BirthDate', Column('BirthDate', DATETIME(), table=<employees>)), ('HireDate', Column('HireDate', DATETIME(), table=<employees>)), ('Address', Column('Address', NVARCHAR(length=70), table=<employees>)), ('City', Column('City', NVARCHAR(length=40), table=<employees>)), ('State', Column('State', NVARCHAR(length=40), table=<employees>)), ('Country', Column('Country', NVARCHAR(length=40), table=<employees>)), ('PostalCode', Column('PostalCode', NVARCHAR(length=10), table=<employees>)), ('Phone', Column('Phone', NVARCHAR(length=24), table=<employees>)), ('Fax', Column('Fax', NVARCHAR(length=24), table=<employees>)), ('Email', Column('Email', NVARCHAR(length=60), table=<employees>))]\n",
      "-------------------------\n",
      "genres\n",
      "['GenreId', 'Name']\n",
      "[('GenreId', Column('GenreId', INTEGER(), table=<genres>, primary_key=True, nullable=False)), ('Name', Column('Name', NVARCHAR(length=120), table=<genres>))]\n",
      "-------------------------\n",
      "invoice_items\n",
      "['InvoiceLineId', 'InvoiceId', 'TrackId', 'UnitPrice', 'Quantity']\n",
      "[('InvoiceLineId', Column('InvoiceLineId', INTEGER(), table=<invoice_items>, primary_key=True, nullable=False)), ('InvoiceId', Column('InvoiceId', INTEGER(), ForeignKey('invoices.InvoiceId'), table=<invoice_items>, nullable=False)), ('TrackId', Column('TrackId', INTEGER(), ForeignKey('tracks.TrackId'), table=<invoice_items>, nullable=False)), ('UnitPrice', Column('UnitPrice', NUMERIC(precision=10, scale=2), table=<invoice_items>, nullable=False)), ('Quantity', Column('Quantity', INTEGER(), table=<invoice_items>, nullable=False))]\n",
      "-------------------------\n",
      "tracks\n",
      "['TrackId', 'Name', 'AlbumId', 'MediaTypeId', 'GenreId', 'Composer', 'Milliseconds', 'Bytes', 'UnitPrice']\n",
      "[('TrackId', Column('TrackId', INTEGER(), table=<tracks>, primary_key=True, nullable=False)), ('Name', Column('Name', NVARCHAR(length=200), table=<tracks>, nullable=False)), ('AlbumId', Column('AlbumId', INTEGER(), ForeignKey('albums.AlbumId'), table=<tracks>)), ('MediaTypeId', Column('MediaTypeId', INTEGER(), ForeignKey('media_types.MediaTypeId'), table=<tracks>, nullable=False)), ('GenreId', Column('GenreId', INTEGER(), ForeignKey('genres.GenreId'), table=<tracks>)), ('Composer', Column('Composer', NVARCHAR(length=220), table=<tracks>)), ('Milliseconds', Column('Milliseconds', INTEGER(), table=<tracks>, nullable=False)), ('Bytes', Column('Bytes', INTEGER(), table=<tracks>)), ('UnitPrice', Column('UnitPrice', NUMERIC(precision=10, scale=2), table=<tracks>, nullable=False))]\n",
      "-------------------------\n",
      "media_types\n",
      "['MediaTypeId', 'Name']\n",
      "[('MediaTypeId', Column('MediaTypeId', INTEGER(), table=<media_types>, primary_key=True, nullable=False)), ('Name', Column('Name', NVARCHAR(length=120), table=<media_types>))]\n",
      "-------------------------\n",
      "invoices\n",
      "['InvoiceId', 'CustomerId', 'InvoiceDate', 'BillingAddress', 'BillingCity', 'BillingState', 'BillingCountry', 'BillingPostalCode', 'Total']\n",
      "[('InvoiceId', Column('InvoiceId', INTEGER(), table=<invoices>, primary_key=True, nullable=False)), ('CustomerId', Column('CustomerId', INTEGER(), ForeignKey('customers.CustomerId'), table=<invoices>, nullable=False)), ('InvoiceDate', Column('InvoiceDate', DATETIME(), table=<invoices>, nullable=False)), ('BillingAddress', Column('BillingAddress', NVARCHAR(length=70), table=<invoices>)), ('BillingCity', Column('BillingCity', NVARCHAR(length=40), table=<invoices>)), ('BillingState', Column('BillingState', NVARCHAR(length=40), table=<invoices>)), ('BillingCountry', Column('BillingCountry', NVARCHAR(length=40), table=<invoices>)), ('BillingPostalCode', Column('BillingPostalCode', NVARCHAR(length=10), table=<invoices>)), ('Total', Column('Total', NUMERIC(precision=10, scale=2), table=<invoices>, nullable=False))]\n",
      "-------------------------\n",
      "playlist_track\n",
      "['PlaylistId', 'TrackId']\n",
      "[('PlaylistId', Column('PlaylistId', INTEGER(), ForeignKey('playlists.PlaylistId'), table=<playlist_track>, primary_key=True, nullable=False)), ('TrackId', Column('TrackId', INTEGER(), ForeignKey('tracks.TrackId'), table=<playlist_track>, primary_key=True, nullable=False))]\n",
      "-------------------------\n",
      "playlists\n",
      "['PlaylistId', 'Name']\n",
      "[('PlaylistId', Column('PlaylistId', INTEGER(), table=<playlists>, primary_key=True, nullable=False)), ('Name', Column('Name', NVARCHAR(length=120), table=<playlists>))]\n",
      "-------------------------\n",
      "[('genres', <class 'sqlalchemy.ext.automap.genres'>), ('albums', <class 'sqlalchemy.ext.automap.albums'>), ('customers', <class 'sqlalchemy.ext.automap.customers'>), ('employees', <class 'sqlalchemy.ext.automap.employees'>), ('invoice_items', <class 'sqlalchemy.ext.automap.invoice_items'>), ('media_types', <class 'sqlalchemy.ext.automap.media_types'>), ('tracks', <class 'sqlalchemy.ext.automap.tracks'>), ('invoices', <class 'sqlalchemy.ext.automap.invoices'>), ('playlists', <class 'sqlalchemy.ext.automap.playlists'>), ('artists', <class 'sqlalchemy.ext.automap.artists'>)]\n"
     ]
    }
   ],
   "source": [
    "from sqlalchemy import create_engine, text, MetaData,select,desc,func\n",
    "from sqlalchemy.orm import Session\n",
    "\n",
    "engine = create_engine(\"sqlite+pysqlite:///chinook.db\", echo=False)\n",
    "\n",
    "### extrai as classes da base de dados Chinook\n",
    "metadata = MetaData()\n",
    "metadata.reflect(engine)\n",
    "\n",
    "# O metadata tem informações sobre as tabelas\n",
    "# que serão usadas para criar os modelos ORM\n",
    "for table_name, table in metadata.tables.items():\n",
    "    print(table_name)\n",
    "    print(table.columns.keys())\n",
    "    print(table.columns.items())\n",
    "    print('-'*25)\n",
    "\n",
    "### configura o objeto Base mapeando os modelos ORM das tabelas\n",
    "from sqlalchemy.ext.automap import automap_base\n",
    "Base = automap_base(metadata=metadata)\n",
    "Base.prepare()\n",
    "\n",
    "# o objeto Base tem os modelos ORM que podemos usar\n",
    "# para manipular o banco de dados\n",
    "print(Base.classes.items())"
   ]
  },
  {
   "cell_type": "code",
   "execution_count": 53,
   "metadata": {},
   "outputs": [
    {
     "name": "stdout",
     "output_type": "stream",
     "text": [
      "1 For Those About To Rock We Salute You\n"
     ]
    }
   ],
   "source": [
    "# A seguir um exemplo de query na tabela Albums\n",
    "# usamos o objeto Base para acessar cada modelo ORM.\n",
    "\n",
    "session = Session(engine)\n",
    "res = session.scalars(select(Base.classes.albums))\n",
    "first_album = res.first()\n",
    "print(first_album.AlbumId, first_album.Title)"
   ]
  },
  {
   "cell_type": "markdown",
   "metadata": {},
   "source": [
    "#### Q3. \n",
    "Com base nos códigos anteriores realize as operações solicitadas nas células a seguir:\n"
   ]
  },
  {
   "cell_type": "code",
   "execution_count": 54,
   "metadata": {},
   "outputs": [
    {
     "name": "stdout",
     "output_type": "stream",
     "text": [
      "1 For Those About To Rock We Salute You\n",
      "2 Balls to the Wall\n",
      "3 Restless and Wild\n"
     ]
    }
   ],
   "source": [
    "### Imprima os três primeiros registros da tabela tracks\n",
    "albums = Base.classes.albums\n",
    "res = session.scalars(select(albums).limit(3)).all()\n",
    "for album in res:\n",
    "    print(album.AlbumId,album.Title)"
   ]
  },
  {
   "cell_type": "code",
   "execution_count": 55,
   "metadata": {},
   "outputs": [
    {
     "name": "stdout",
     "output_type": "stream",
     "text": [
      "Faixa: For Those About To Rock (We Salute You) --- Album: For Those About To Rock We Salute You\n",
      "Faixa: Balls to the Wall --- Album: Balls to the Wall\n",
      "Faixa: Fast As a Shark --- Album: Restless and Wild\n",
      "Faixa: Restless and Wild --- Album: Restless and Wild\n",
      "Faixa: Princess of the Dawn --- Album: Restless and Wild\n",
      "Faixa: Put The Finger On You --- Album: For Those About To Rock We Salute You\n",
      "Faixa: Let's Get It Up --- Album: For Those About To Rock We Salute You\n",
      "Faixa: Inject The Venom --- Album: For Those About To Rock We Salute You\n",
      "Faixa: Snowballed --- Album: For Those About To Rock We Salute You\n",
      "Faixa: Evil Walks --- Album: For Those About To Rock We Salute You\n",
      "Faixa: C.O.D. --- Album: For Those About To Rock We Salute You\n",
      "Faixa: Breaking The Rules --- Album: For Those About To Rock We Salute You\n",
      "Faixa: Night Of The Long Knives --- Album: For Those About To Rock We Salute You\n",
      "Faixa: Spellbound --- Album: For Those About To Rock We Salute You\n",
      "Faixa: Go Down --- Album: Let There Be Rock\n",
      "Faixa: Dog Eat Dog --- Album: Let There Be Rock\n",
      "Faixa: Let There Be Rock --- Album: Let There Be Rock\n",
      "Faixa: Bad Boy Boogie --- Album: Let There Be Rock\n",
      "Faixa: Problem Child --- Album: Let There Be Rock\n",
      "Faixa: Overdose --- Album: Let There Be Rock\n"
     ]
    }
   ],
   "source": [
    "### Imprima o nome da faixa e o título do álbum das primeiras 20 faixas na tabela tracks.\n",
    "tracks = Base.classes.tracks\n",
    "albums = Base.classes.albums\n",
    "query_tracks = session.execute(select(tracks).limit(20)).scalars().all()\n",
    "i = 0\n",
    "lista_name_album = []\n",
    "lista_track_name = []\n",
    "for track in query_tracks:\n",
    "    query_album = session.execute(select(albums).where(albums.AlbumId == track.AlbumId)).scalars().all()\n",
    "    lista_track_name.append(track.Name)\n",
    "    for album in query_album:\n",
    "        lista_name_album.append(album.Title)\n",
    "    \n",
    "for i in range(len(lista_track_name)):\n",
    "    print(f'Faixa: {lista_track_name[i]} --- Album: {lista_name_album[i]}')\n",
    "\n"
   ]
  },
  {
   "cell_type": "code",
   "execution_count": 56,
   "metadata": {},
   "outputs": [
    {
     "name": "stdout",
     "output_type": "stream",
     "text": [
      "Faixa: Balls to the Wall --- Quantidade: 1\n",
      "Faixa: Restless and Wild --- Quantidade: 1\n",
      "Faixa: Put The Finger On You --- Quantidade: 1\n",
      "Faixa: Inject The Venom --- Quantidade: 1\n",
      "Faixa: Evil Walks --- Quantidade: 1\n",
      "Faixa: Breaking The Rules --- Quantidade: 1\n",
      "Faixa: Dog Eat Dog --- Quantidade: 1\n",
      "Faixa: Overdose --- Quantidade: 1\n",
      "Faixa: Love In An Elevator --- Quantidade: 1\n",
      "Faixa: Janie's Got A Gun --- Quantidade: 1\n"
     ]
    }
   ],
   "source": [
    "### Imprima as 10 primeiras vendas de faixas da tabela invoice_items\n",
    "### Para essas 10 primeiras vendas, imprima os nomes das faixas vendidas e a quantidade vendida.\n",
    "tracks = Base.classes.tracks\n",
    "invoice_items = Base.classes.invoice_items \n",
    "query_invoice = session.execute(select(invoice_items).limit(10)).scalars().all()\n",
    "# for item in query_invoice:\n",
    "#     for column in item.__table__.columns:\n",
    "#         nome = column.name\n",
    "#         valor = getattr(item, nome)\n",
    "#         print(f\"{nome}: {valor}\")\n",
    "#     print('-' * 30)\n",
    "\n",
    "\n",
    "for invoice in query_invoice:\n",
    "    query_faixa = session.execute(select(tracks).where(tracks.TrackId == invoice.TrackId)).scalars().first()\n",
    "    print(f'Faixa: {query_faixa.Name} --- Quantidade: {invoice.Quantity}')\n",
    "    \n",
    "\n",
    "    \n",
    "    \n",
    "    "
   ]
  },
  {
   "cell_type": "code",
   "execution_count": 57,
   "metadata": {},
   "outputs": [
    {
     "name": "stdout",
     "output_type": "stream",
     "text": [
      "Faixa: Balls to the Wall --- Quantidade de vendas: 2\n",
      "Faixa: Inject The Venom --- Quantidade de vendas: 2\n",
      "Faixa: Overdose --- Quantidade de vendas: 2\n",
      "Faixa: Deuces Are Wild --- Quantidade de vendas: 2\n",
      "Faixa: Not The Doctor --- Quantidade de vendas: 2\n",
      "Faixa: Por Causa De Você --- Quantidade de vendas: 2\n",
      "Faixa: Welcome Home (Sanitarium) --- Quantidade de vendas: 2\n",
      "Faixa: Cornucopia --- Quantidade de vendas: 2\n",
      "Faixa: Bowels Of The Devil --- Quantidade de vendas: 2\n",
      "Faixa: When My Left Eye Jumps --- Quantidade de vendas: 2\n"
     ]
    }
   ],
   "source": [
    "### Imprima os nomes das 10 faixas mais vendidas e quantas vezes foram vendidas.\n",
    "query_desc_quantity = session.execute(select(invoice_items)).scalars().all()\n",
    "i = 0\n",
    "dict_quantidade = {}\n",
    "for invoice in query_desc_quantity:\n",
    "    dict_quantidade[invoice.TrackId] = dict_quantidade.get(invoice.TrackId, 0) + 1\n",
    "\n",
    "dict_ordenado = dict(sorted(dict_quantidade.items(), key=lambda item: item[1], reverse=True))\n",
    "\n",
    "for track_id, quantidade in dict_ordenado.items():\n",
    "    if i < 10:\n",
    "        query_faixa = session.execute(select(tracks).where(tracks.TrackId == track_id)).scalars().first()\n",
    "        print(f\"Faixa: {query_faixa.Name} --- Quantidade de vendas: {quantidade}\")\n",
    "    i += 1\n",
    "    \n",
    "    \n"
   ]
  },
  {
   "cell_type": "code",
   "execution_count": 59,
   "metadata": {},
   "outputs": [
    {
     "name": "stdout",
     "output_type": "stream",
     "text": [
      "Iron Maiden: 140\n",
      "U2: 107\n",
      "Metallica: 91\n",
      "Led Zeppelin: 87\n",
      "Os Paralamas Do Sucesso: 45\n",
      "Deep Purple: 44\n",
      "Faith No More: 42\n",
      "Lost: 41\n",
      "Eric Clapton: 40\n",
      "R.E.M.: 39\n"
     ]
    }
   ],
   "source": [
    "### Quem são os 10 artistas que mais venderam?\n",
    "### dica: você precisa juntar as tabelas invoice_items, tracks, albums e artists\n",
    "invoice_items = Base.classes.invoice_items\n",
    "tracks = Base.classes.tracks\n",
    "albums = Base.classes.albums\n",
    "artists = Base.classes.artists\n",
    "\n",
    "query = (\n",
    "    select(artists.Name, func.sum(invoice_items.Quantity).label('total_vendas'))\n",
    "    .join(albums, albums.ArtistId == artists.ArtistId)\n",
    "    .join(tracks, tracks.AlbumId == albums.AlbumId)\n",
    "    .join(invoice_items, invoice_items.TrackId == tracks.TrackId)\n",
    "    .group_by(artists.ArtistId)\n",
    "    .order_by(desc('total_vendas'))\n",
    "    .limit(10)\n",
    ")\n",
    "\n",
    "resultado = session.execute(query).all()\n",
    "for nome, total in resultado:\n",
    "    print(f\"{nome}: {total}\")"
   ]
  }
 ],
 "metadata": {
  "kernelspec": {
   "display_name": "Python 3",
   "language": "python",
   "name": "python3"
  },
  "language_info": {
   "codemirror_mode": {
    "name": "ipython",
    "version": 3
   },
   "file_extension": ".py",
   "mimetype": "text/x-python",
   "name": "python",
   "nbconvert_exporter": "python",
   "pygments_lexer": "ipython3",
   "version": "3.12.3"
  }
 },
 "nbformat": 4,
 "nbformat_minor": 2
}
